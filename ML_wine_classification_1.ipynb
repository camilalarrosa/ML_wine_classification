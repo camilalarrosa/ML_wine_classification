{
  "nbformat": 4,
  "nbformat_minor": 0,
  "metadata": {
    "colab": {
      "name": "ML - wine classification - 1.ipynb",
      "provenance": [],
      "collapsed_sections": [
        "1yhQQEOcput9",
        "vaTFCW8NqnB0",
        "vUvFcdVWrMLq",
        "evZSp9-msdHG",
        "n-ZHohtzvCSK"
      ],
      "toc_visible": true,
      "authorship_tag": "ABX9TyOUWUFQzC3LIsdrv+pA8qpv",
      "include_colab_link": true
    },
    "kernelspec": {
      "name": "python3",
      "display_name": "Python 3"
    },
    "language_info": {
      "name": "python"
    }
  },
  "cells": [
    {
      "cell_type": "markdown",
      "metadata": {
        "id": "view-in-github",
        "colab_type": "text"
      },
      "source": [
        "<a href=\"https://colab.research.google.com/github/camilalarrosa/ML_wine_classification/blob/main/ML_wine_classification_1.ipynb\" target=\"_parent\"><img src=\"https://colab.research.google.com/assets/colab-badge.svg\" alt=\"Open In Colab\"/></a>"
      ]
    },
    {
      "cell_type": "code",
      "execution_count": 34,
      "metadata": {
        "id": "42swsw7EaQjQ"
      },
      "outputs": [],
      "source": [
        "import pandas as pd\n",
        "import numpy as np\n",
        "import seaborn as sns\n",
        "import matplotlib.pyplot as plt\n",
        "import plotly.express as px"
      ]
    },
    {
      "cell_type": "code",
      "source": [
        "data = pd.read_csv('/content/sample_data/wine_dataset.csv')"
      ],
      "metadata": {
        "id": "0CcW2vxgaX0d"
      },
      "execution_count": 35,
      "outputs": []
    },
    {
      "cell_type": "markdown",
      "source": [
        "# Data exploration"
      ],
      "metadata": {
        "id": "l15PrfyWmgPv"
      }
    },
    {
      "cell_type": "code",
      "source": [
        "data.head()"
      ],
      "metadata": {
        "colab": {
          "base_uri": "https://localhost:8080/",
          "height": 270
        },
        "id": "L6HDFGZPawn0",
        "outputId": "eb2a3fe4-055d-4300-9b81-8765333a553f"
      },
      "execution_count": 36,
      "outputs": [
        {
          "output_type": "execute_result",
          "data": {
            "text/plain": [
              "   fixed_acidity  volatile_acidity  citric_acid  residual_sugar  chlorides  \\\n",
              "0            7.4              0.70         0.00             1.9      0.076   \n",
              "1            7.8              0.88         0.00             2.6      0.098   \n",
              "2            7.8              0.76         0.04             2.3      0.092   \n",
              "3           11.2              0.28         0.56             1.9      0.075   \n",
              "4            7.4              0.70         0.00             1.9      0.076   \n",
              "\n",
              "   free_sulfur_dioxide  total_sulfur_dioxide  density    pH  sulphates  \\\n",
              "0                 11.0                  34.0   0.9978  3.51       0.56   \n",
              "1                 25.0                  67.0   0.9968  3.20       0.68   \n",
              "2                 15.0                  54.0   0.9970  3.26       0.65   \n",
              "3                 17.0                  60.0   0.9980  3.16       0.58   \n",
              "4                 11.0                  34.0   0.9978  3.51       0.56   \n",
              "\n",
              "   alcohol  quality style  \n",
              "0      9.4        5   red  \n",
              "1      9.8        5   red  \n",
              "2      9.8        5   red  \n",
              "3      9.8        6   red  \n",
              "4      9.4        5   red  "
            ],
            "text/html": [
              "\n",
              "  <div id=\"df-4204c6cc-a1f1-4e32-818e-00436b1c07e9\">\n",
              "    <div class=\"colab-df-container\">\n",
              "      <div>\n",
              "<style scoped>\n",
              "    .dataframe tbody tr th:only-of-type {\n",
              "        vertical-align: middle;\n",
              "    }\n",
              "\n",
              "    .dataframe tbody tr th {\n",
              "        vertical-align: top;\n",
              "    }\n",
              "\n",
              "    .dataframe thead th {\n",
              "        text-align: right;\n",
              "    }\n",
              "</style>\n",
              "<table border=\"1\" class=\"dataframe\">\n",
              "  <thead>\n",
              "    <tr style=\"text-align: right;\">\n",
              "      <th></th>\n",
              "      <th>fixed_acidity</th>\n",
              "      <th>volatile_acidity</th>\n",
              "      <th>citric_acid</th>\n",
              "      <th>residual_sugar</th>\n",
              "      <th>chlorides</th>\n",
              "      <th>free_sulfur_dioxide</th>\n",
              "      <th>total_sulfur_dioxide</th>\n",
              "      <th>density</th>\n",
              "      <th>pH</th>\n",
              "      <th>sulphates</th>\n",
              "      <th>alcohol</th>\n",
              "      <th>quality</th>\n",
              "      <th>style</th>\n",
              "    </tr>\n",
              "  </thead>\n",
              "  <tbody>\n",
              "    <tr>\n",
              "      <th>0</th>\n",
              "      <td>7.4</td>\n",
              "      <td>0.70</td>\n",
              "      <td>0.00</td>\n",
              "      <td>1.9</td>\n",
              "      <td>0.076</td>\n",
              "      <td>11.0</td>\n",
              "      <td>34.0</td>\n",
              "      <td>0.9978</td>\n",
              "      <td>3.51</td>\n",
              "      <td>0.56</td>\n",
              "      <td>9.4</td>\n",
              "      <td>5</td>\n",
              "      <td>red</td>\n",
              "    </tr>\n",
              "    <tr>\n",
              "      <th>1</th>\n",
              "      <td>7.8</td>\n",
              "      <td>0.88</td>\n",
              "      <td>0.00</td>\n",
              "      <td>2.6</td>\n",
              "      <td>0.098</td>\n",
              "      <td>25.0</td>\n",
              "      <td>67.0</td>\n",
              "      <td>0.9968</td>\n",
              "      <td>3.20</td>\n",
              "      <td>0.68</td>\n",
              "      <td>9.8</td>\n",
              "      <td>5</td>\n",
              "      <td>red</td>\n",
              "    </tr>\n",
              "    <tr>\n",
              "      <th>2</th>\n",
              "      <td>7.8</td>\n",
              "      <td>0.76</td>\n",
              "      <td>0.04</td>\n",
              "      <td>2.3</td>\n",
              "      <td>0.092</td>\n",
              "      <td>15.0</td>\n",
              "      <td>54.0</td>\n",
              "      <td>0.9970</td>\n",
              "      <td>3.26</td>\n",
              "      <td>0.65</td>\n",
              "      <td>9.8</td>\n",
              "      <td>5</td>\n",
              "      <td>red</td>\n",
              "    </tr>\n",
              "    <tr>\n",
              "      <th>3</th>\n",
              "      <td>11.2</td>\n",
              "      <td>0.28</td>\n",
              "      <td>0.56</td>\n",
              "      <td>1.9</td>\n",
              "      <td>0.075</td>\n",
              "      <td>17.0</td>\n",
              "      <td>60.0</td>\n",
              "      <td>0.9980</td>\n",
              "      <td>3.16</td>\n",
              "      <td>0.58</td>\n",
              "      <td>9.8</td>\n",
              "      <td>6</td>\n",
              "      <td>red</td>\n",
              "    </tr>\n",
              "    <tr>\n",
              "      <th>4</th>\n",
              "      <td>7.4</td>\n",
              "      <td>0.70</td>\n",
              "      <td>0.00</td>\n",
              "      <td>1.9</td>\n",
              "      <td>0.076</td>\n",
              "      <td>11.0</td>\n",
              "      <td>34.0</td>\n",
              "      <td>0.9978</td>\n",
              "      <td>3.51</td>\n",
              "      <td>0.56</td>\n",
              "      <td>9.4</td>\n",
              "      <td>5</td>\n",
              "      <td>red</td>\n",
              "    </tr>\n",
              "  </tbody>\n",
              "</table>\n",
              "</div>\n",
              "      <button class=\"colab-df-convert\" onclick=\"convertToInteractive('df-4204c6cc-a1f1-4e32-818e-00436b1c07e9')\"\n",
              "              title=\"Convert this dataframe to an interactive table.\"\n",
              "              style=\"display:none;\">\n",
              "        \n",
              "  <svg xmlns=\"http://www.w3.org/2000/svg\" height=\"24px\"viewBox=\"0 0 24 24\"\n",
              "       width=\"24px\">\n",
              "    <path d=\"M0 0h24v24H0V0z\" fill=\"none\"/>\n",
              "    <path d=\"M18.56 5.44l.94 2.06.94-2.06 2.06-.94-2.06-.94-.94-2.06-.94 2.06-2.06.94zm-11 1L8.5 8.5l.94-2.06 2.06-.94-2.06-.94L8.5 2.5l-.94 2.06-2.06.94zm10 10l.94 2.06.94-2.06 2.06-.94-2.06-.94-.94-2.06-.94 2.06-2.06.94z\"/><path d=\"M17.41 7.96l-1.37-1.37c-.4-.4-.92-.59-1.43-.59-.52 0-1.04.2-1.43.59L10.3 9.45l-7.72 7.72c-.78.78-.78 2.05 0 2.83L4 21.41c.39.39.9.59 1.41.59.51 0 1.02-.2 1.41-.59l7.78-7.78 2.81-2.81c.8-.78.8-2.07 0-2.86zM5.41 20L4 18.59l7.72-7.72 1.47 1.35L5.41 20z\"/>\n",
              "  </svg>\n",
              "      </button>\n",
              "      \n",
              "  <style>\n",
              "    .colab-df-container {\n",
              "      display:flex;\n",
              "      flex-wrap:wrap;\n",
              "      gap: 12px;\n",
              "    }\n",
              "\n",
              "    .colab-df-convert {\n",
              "      background-color: #E8F0FE;\n",
              "      border: none;\n",
              "      border-radius: 50%;\n",
              "      cursor: pointer;\n",
              "      display: none;\n",
              "      fill: #1967D2;\n",
              "      height: 32px;\n",
              "      padding: 0 0 0 0;\n",
              "      width: 32px;\n",
              "    }\n",
              "\n",
              "    .colab-df-convert:hover {\n",
              "      background-color: #E2EBFA;\n",
              "      box-shadow: 0px 1px 2px rgba(60, 64, 67, 0.3), 0px 1px 3px 1px rgba(60, 64, 67, 0.15);\n",
              "      fill: #174EA6;\n",
              "    }\n",
              "\n",
              "    [theme=dark] .colab-df-convert {\n",
              "      background-color: #3B4455;\n",
              "      fill: #D2E3FC;\n",
              "    }\n",
              "\n",
              "    [theme=dark] .colab-df-convert:hover {\n",
              "      background-color: #434B5C;\n",
              "      box-shadow: 0px 1px 3px 1px rgba(0, 0, 0, 0.15);\n",
              "      filter: drop-shadow(0px 1px 2px rgba(0, 0, 0, 0.3));\n",
              "      fill: #FFFFFF;\n",
              "    }\n",
              "  </style>\n",
              "\n",
              "      <script>\n",
              "        const buttonEl =\n",
              "          document.querySelector('#df-4204c6cc-a1f1-4e32-818e-00436b1c07e9 button.colab-df-convert');\n",
              "        buttonEl.style.display =\n",
              "          google.colab.kernel.accessAllowed ? 'block' : 'none';\n",
              "\n",
              "        async function convertToInteractive(key) {\n",
              "          const element = document.querySelector('#df-4204c6cc-a1f1-4e32-818e-00436b1c07e9');\n",
              "          const dataTable =\n",
              "            await google.colab.kernel.invokeFunction('convertToInteractive',\n",
              "                                                     [key], {});\n",
              "          if (!dataTable) return;\n",
              "\n",
              "          const docLinkHtml = 'Like what you see? Visit the ' +\n",
              "            '<a target=\"_blank\" href=https://colab.research.google.com/notebooks/data_table.ipynb>data table notebook</a>'\n",
              "            + ' to learn more about interactive tables.';\n",
              "          element.innerHTML = '';\n",
              "          dataTable['output_type'] = 'display_data';\n",
              "          await google.colab.output.renderOutput(dataTable, element);\n",
              "          const docLink = document.createElement('div');\n",
              "          docLink.innerHTML = docLinkHtml;\n",
              "          element.appendChild(docLink);\n",
              "        }\n",
              "      </script>\n",
              "    </div>\n",
              "  </div>\n",
              "  "
            ]
          },
          "metadata": {},
          "execution_count": 36
        }
      ]
    },
    {
      "cell_type": "code",
      "source": [
        "data.tail()"
      ],
      "metadata": {
        "colab": {
          "base_uri": "https://localhost:8080/",
          "height": 270
        },
        "id": "cS1E_52zlAdG",
        "outputId": "e8ad375b-f23d-44fd-9897-31b5e458fc77"
      },
      "execution_count": 37,
      "outputs": [
        {
          "output_type": "execute_result",
          "data": {
            "text/plain": [
              "      fixed_acidity  volatile_acidity  citric_acid  residual_sugar  chlorides  \\\n",
              "6492            6.2              0.21         0.29             1.6      0.039   \n",
              "6493            6.6              0.32         0.36             8.0      0.047   \n",
              "6494            6.5              0.24         0.19             1.2      0.041   \n",
              "6495            5.5              0.29         0.30             1.1      0.022   \n",
              "6496            6.0              0.21         0.38             0.8      0.020   \n",
              "\n",
              "      free_sulfur_dioxide  total_sulfur_dioxide  density    pH  sulphates  \\\n",
              "6492                 24.0                  92.0  0.99114  3.27       0.50   \n",
              "6493                 57.0                 168.0  0.99490  3.15       0.46   \n",
              "6494                 30.0                 111.0  0.99254  2.99       0.46   \n",
              "6495                 20.0                 110.0  0.98869  3.34       0.38   \n",
              "6496                 22.0                  98.0  0.98941  3.26       0.32   \n",
              "\n",
              "      alcohol  quality  style  \n",
              "6492     11.2        6  white  \n",
              "6493      9.6        5  white  \n",
              "6494      9.4        6  white  \n",
              "6495     12.8        7  white  \n",
              "6496     11.8        6  white  "
            ],
            "text/html": [
              "\n",
              "  <div id=\"df-fb67f7c2-7cee-4660-9478-06e5337b8da4\">\n",
              "    <div class=\"colab-df-container\">\n",
              "      <div>\n",
              "<style scoped>\n",
              "    .dataframe tbody tr th:only-of-type {\n",
              "        vertical-align: middle;\n",
              "    }\n",
              "\n",
              "    .dataframe tbody tr th {\n",
              "        vertical-align: top;\n",
              "    }\n",
              "\n",
              "    .dataframe thead th {\n",
              "        text-align: right;\n",
              "    }\n",
              "</style>\n",
              "<table border=\"1\" class=\"dataframe\">\n",
              "  <thead>\n",
              "    <tr style=\"text-align: right;\">\n",
              "      <th></th>\n",
              "      <th>fixed_acidity</th>\n",
              "      <th>volatile_acidity</th>\n",
              "      <th>citric_acid</th>\n",
              "      <th>residual_sugar</th>\n",
              "      <th>chlorides</th>\n",
              "      <th>free_sulfur_dioxide</th>\n",
              "      <th>total_sulfur_dioxide</th>\n",
              "      <th>density</th>\n",
              "      <th>pH</th>\n",
              "      <th>sulphates</th>\n",
              "      <th>alcohol</th>\n",
              "      <th>quality</th>\n",
              "      <th>style</th>\n",
              "    </tr>\n",
              "  </thead>\n",
              "  <tbody>\n",
              "    <tr>\n",
              "      <th>6492</th>\n",
              "      <td>6.2</td>\n",
              "      <td>0.21</td>\n",
              "      <td>0.29</td>\n",
              "      <td>1.6</td>\n",
              "      <td>0.039</td>\n",
              "      <td>24.0</td>\n",
              "      <td>92.0</td>\n",
              "      <td>0.99114</td>\n",
              "      <td>3.27</td>\n",
              "      <td>0.50</td>\n",
              "      <td>11.2</td>\n",
              "      <td>6</td>\n",
              "      <td>white</td>\n",
              "    </tr>\n",
              "    <tr>\n",
              "      <th>6493</th>\n",
              "      <td>6.6</td>\n",
              "      <td>0.32</td>\n",
              "      <td>0.36</td>\n",
              "      <td>8.0</td>\n",
              "      <td>0.047</td>\n",
              "      <td>57.0</td>\n",
              "      <td>168.0</td>\n",
              "      <td>0.99490</td>\n",
              "      <td>3.15</td>\n",
              "      <td>0.46</td>\n",
              "      <td>9.6</td>\n",
              "      <td>5</td>\n",
              "      <td>white</td>\n",
              "    </tr>\n",
              "    <tr>\n",
              "      <th>6494</th>\n",
              "      <td>6.5</td>\n",
              "      <td>0.24</td>\n",
              "      <td>0.19</td>\n",
              "      <td>1.2</td>\n",
              "      <td>0.041</td>\n",
              "      <td>30.0</td>\n",
              "      <td>111.0</td>\n",
              "      <td>0.99254</td>\n",
              "      <td>2.99</td>\n",
              "      <td>0.46</td>\n",
              "      <td>9.4</td>\n",
              "      <td>6</td>\n",
              "      <td>white</td>\n",
              "    </tr>\n",
              "    <tr>\n",
              "      <th>6495</th>\n",
              "      <td>5.5</td>\n",
              "      <td>0.29</td>\n",
              "      <td>0.30</td>\n",
              "      <td>1.1</td>\n",
              "      <td>0.022</td>\n",
              "      <td>20.0</td>\n",
              "      <td>110.0</td>\n",
              "      <td>0.98869</td>\n",
              "      <td>3.34</td>\n",
              "      <td>0.38</td>\n",
              "      <td>12.8</td>\n",
              "      <td>7</td>\n",
              "      <td>white</td>\n",
              "    </tr>\n",
              "    <tr>\n",
              "      <th>6496</th>\n",
              "      <td>6.0</td>\n",
              "      <td>0.21</td>\n",
              "      <td>0.38</td>\n",
              "      <td>0.8</td>\n",
              "      <td>0.020</td>\n",
              "      <td>22.0</td>\n",
              "      <td>98.0</td>\n",
              "      <td>0.98941</td>\n",
              "      <td>3.26</td>\n",
              "      <td>0.32</td>\n",
              "      <td>11.8</td>\n",
              "      <td>6</td>\n",
              "      <td>white</td>\n",
              "    </tr>\n",
              "  </tbody>\n",
              "</table>\n",
              "</div>\n",
              "      <button class=\"colab-df-convert\" onclick=\"convertToInteractive('df-fb67f7c2-7cee-4660-9478-06e5337b8da4')\"\n",
              "              title=\"Convert this dataframe to an interactive table.\"\n",
              "              style=\"display:none;\">\n",
              "        \n",
              "  <svg xmlns=\"http://www.w3.org/2000/svg\" height=\"24px\"viewBox=\"0 0 24 24\"\n",
              "       width=\"24px\">\n",
              "    <path d=\"M0 0h24v24H0V0z\" fill=\"none\"/>\n",
              "    <path d=\"M18.56 5.44l.94 2.06.94-2.06 2.06-.94-2.06-.94-.94-2.06-.94 2.06-2.06.94zm-11 1L8.5 8.5l.94-2.06 2.06-.94-2.06-.94L8.5 2.5l-.94 2.06-2.06.94zm10 10l.94 2.06.94-2.06 2.06-.94-2.06-.94-.94-2.06-.94 2.06-2.06.94z\"/><path d=\"M17.41 7.96l-1.37-1.37c-.4-.4-.92-.59-1.43-.59-.52 0-1.04.2-1.43.59L10.3 9.45l-7.72 7.72c-.78.78-.78 2.05 0 2.83L4 21.41c.39.39.9.59 1.41.59.51 0 1.02-.2 1.41-.59l7.78-7.78 2.81-2.81c.8-.78.8-2.07 0-2.86zM5.41 20L4 18.59l7.72-7.72 1.47 1.35L5.41 20z\"/>\n",
              "  </svg>\n",
              "      </button>\n",
              "      \n",
              "  <style>\n",
              "    .colab-df-container {\n",
              "      display:flex;\n",
              "      flex-wrap:wrap;\n",
              "      gap: 12px;\n",
              "    }\n",
              "\n",
              "    .colab-df-convert {\n",
              "      background-color: #E8F0FE;\n",
              "      border: none;\n",
              "      border-radius: 50%;\n",
              "      cursor: pointer;\n",
              "      display: none;\n",
              "      fill: #1967D2;\n",
              "      height: 32px;\n",
              "      padding: 0 0 0 0;\n",
              "      width: 32px;\n",
              "    }\n",
              "\n",
              "    .colab-df-convert:hover {\n",
              "      background-color: #E2EBFA;\n",
              "      box-shadow: 0px 1px 2px rgba(60, 64, 67, 0.3), 0px 1px 3px 1px rgba(60, 64, 67, 0.15);\n",
              "      fill: #174EA6;\n",
              "    }\n",
              "\n",
              "    [theme=dark] .colab-df-convert {\n",
              "      background-color: #3B4455;\n",
              "      fill: #D2E3FC;\n",
              "    }\n",
              "\n",
              "    [theme=dark] .colab-df-convert:hover {\n",
              "      background-color: #434B5C;\n",
              "      box-shadow: 0px 1px 3px 1px rgba(0, 0, 0, 0.15);\n",
              "      filter: drop-shadow(0px 1px 2px rgba(0, 0, 0, 0.3));\n",
              "      fill: #FFFFFF;\n",
              "    }\n",
              "  </style>\n",
              "\n",
              "      <script>\n",
              "        const buttonEl =\n",
              "          document.querySelector('#df-fb67f7c2-7cee-4660-9478-06e5337b8da4 button.colab-df-convert');\n",
              "        buttonEl.style.display =\n",
              "          google.colab.kernel.accessAllowed ? 'block' : 'none';\n",
              "\n",
              "        async function convertToInteractive(key) {\n",
              "          const element = document.querySelector('#df-fb67f7c2-7cee-4660-9478-06e5337b8da4');\n",
              "          const dataTable =\n",
              "            await google.colab.kernel.invokeFunction('convertToInteractive',\n",
              "                                                     [key], {});\n",
              "          if (!dataTable) return;\n",
              "\n",
              "          const docLinkHtml = 'Like what you see? Visit the ' +\n",
              "            '<a target=\"_blank\" href=https://colab.research.google.com/notebooks/data_table.ipynb>data table notebook</a>'\n",
              "            + ' to learn more about interactive tables.';\n",
              "          element.innerHTML = '';\n",
              "          dataTable['output_type'] = 'display_data';\n",
              "          await google.colab.output.renderOutput(dataTable, element);\n",
              "          const docLink = document.createElement('div');\n",
              "          docLink.innerHTML = docLinkHtml;\n",
              "          element.appendChild(docLink);\n",
              "        }\n",
              "      </script>\n",
              "    </div>\n",
              "  </div>\n",
              "  "
            ]
          },
          "metadata": {},
          "execution_count": 37
        }
      ]
    },
    {
      "cell_type": "code",
      "source": [
        "data.columns"
      ],
      "metadata": {
        "colab": {
          "base_uri": "https://localhost:8080/"
        },
        "id": "NzjP4qPUa-qY",
        "outputId": "e1a9df48-7f17-4b13-f474-781110e1b69b"
      },
      "execution_count": 38,
      "outputs": [
        {
          "output_type": "execute_result",
          "data": {
            "text/plain": [
              "Index(['fixed_acidity', 'volatile_acidity', 'citric_acid', 'residual_sugar',\n",
              "       'chlorides', 'free_sulfur_dioxide', 'total_sulfur_dioxide', 'density',\n",
              "       'pH', 'sulphates', 'alcohol', 'quality', 'style'],\n",
              "      dtype='object')"
            ]
          },
          "metadata": {},
          "execution_count": 38
        }
      ]
    },
    {
      "cell_type": "code",
      "source": [
        "np.unique(data['style'])"
      ],
      "metadata": {
        "id": "qLCCNHWNeFCM",
        "colab": {
          "base_uri": "https://localhost:8080/"
        },
        "outputId": "1c360c6a-ceb4-4b06-b37d-1358171a5151"
      },
      "execution_count": 39,
      "outputs": [
        {
          "output_type": "execute_result",
          "data": {
            "text/plain": [
              "array(['red', 'white'], dtype=object)"
            ]
          },
          "metadata": {},
          "execution_count": 39
        }
      ]
    },
    {
      "cell_type": "code",
      "source": [
        "# data balancing\n",
        "np.unique(data['style'], return_counts=True) "
      ],
      "metadata": {
        "colab": {
          "base_uri": "https://localhost:8080/"
        },
        "id": "EFKyo-y-lbx1",
        "outputId": "d364c140-2ed1-485b-a661-06193c4d136d"
      },
      "execution_count": 40,
      "outputs": [
        {
          "output_type": "execute_result",
          "data": {
            "text/plain": [
              "(array(['red', 'white'], dtype=object), array([1599, 4898]))"
            ]
          },
          "metadata": {},
          "execution_count": 40
        }
      ]
    },
    {
      "cell_type": "markdown",
      "source": [
        "# Treatment of missing values"
      ],
      "metadata": {
        "id": "wPjIHz9zmx1h"
      }
    },
    {
      "cell_type": "code",
      "source": [
        "data.isnull().sum() # hasn't missing values"
      ],
      "metadata": {
        "colab": {
          "base_uri": "https://localhost:8080/"
        },
        "id": "r0KIbdhVl4IF",
        "outputId": "61f2a310-b17a-4c9f-fbc7-a9a9676712d0"
      },
      "execution_count": 41,
      "outputs": [
        {
          "output_type": "execute_result",
          "data": {
            "text/plain": [
              "fixed_acidity           0\n",
              "volatile_acidity        0\n",
              "citric_acid             0\n",
              "residual_sugar          0\n",
              "chlorides               0\n",
              "free_sulfur_dioxide     0\n",
              "total_sulfur_dioxide    0\n",
              "density                 0\n",
              "pH                      0\n",
              "sulphates               0\n",
              "alcohol                 0\n",
              "quality                 0\n",
              "style                   0\n",
              "dtype: int64"
            ]
          },
          "metadata": {},
          "execution_count": 41
        }
      ]
    },
    {
      "cell_type": "markdown",
      "source": [
        "# Division between predictors (x) and class (y)"
      ],
      "metadata": {
        "id": "fN_fIozSnHF5"
      }
    },
    {
      "cell_type": "code",
      "source": [
        "type(data) # confirming if it is in DataFrame format"
      ],
      "metadata": {
        "colab": {
          "base_uri": "https://localhost:8080/"
        },
        "id": "NpUakbzWl8ei",
        "outputId": "9907b6c7-81c8-4901-bcb6-ffbd363f8d00"
      },
      "execution_count": 42,
      "outputs": [
        {
          "output_type": "execute_result",
          "data": {
            "text/plain": [
              "pandas.core.frame.DataFrame"
            ]
          },
          "metadata": {},
          "execution_count": 42
        }
      ]
    },
    {
      "cell_type": "code",
      "source": [
        "x_data = data.iloc[:,1:12].values # predictor values (x): all rows, column 1 to 11"
      ],
      "metadata": {
        "id": "KDwjNrbzn44f"
      },
      "execution_count": 43,
      "outputs": []
    },
    {
      "cell_type": "code",
      "source": [
        "x_data # verifying x"
      ],
      "metadata": {
        "colab": {
          "base_uri": "https://localhost:8080/"
        },
        "id": "sISYnBJUoWlh",
        "outputId": "3a79e622-9064-4fe4-ba54-0ecbbae34f1f"
      },
      "execution_count": 44,
      "outputs": [
        {
          "output_type": "execute_result",
          "data": {
            "text/plain": [
              "array([[ 0.7 ,  0.  ,  1.9 , ...,  0.56,  9.4 ,  5.  ],\n",
              "       [ 0.88,  0.  ,  2.6 , ...,  0.68,  9.8 ,  5.  ],\n",
              "       [ 0.76,  0.04,  2.3 , ...,  0.65,  9.8 ,  5.  ],\n",
              "       ...,\n",
              "       [ 0.24,  0.19,  1.2 , ...,  0.46,  9.4 ,  6.  ],\n",
              "       [ 0.29,  0.3 ,  1.1 , ...,  0.38, 12.8 ,  7.  ],\n",
              "       [ 0.21,  0.38,  0.8 , ...,  0.32, 11.8 ,  6.  ]])"
            ]
          },
          "metadata": {},
          "execution_count": 44
        }
      ]
    },
    {
      "cell_type": "code",
      "source": [
        "type(x_data) # checking the format"
      ],
      "metadata": {
        "colab": {
          "base_uri": "https://localhost:8080/"
        },
        "id": "PY1B-wnEpAHl",
        "outputId": "8b3338f3-bcf4-4666-b5dd-96010fd9954a"
      },
      "execution_count": 45,
      "outputs": [
        {
          "output_type": "execute_result",
          "data": {
            "text/plain": [
              "numpy.ndarray"
            ]
          },
          "metadata": {},
          "execution_count": 45
        }
      ]
    },
    {
      "cell_type": "code",
      "source": [
        "y_data = data.iloc[:, 12].values # class: all rows in last column (12)"
      ],
      "metadata": {
        "id": "e0ahqefVoaMR"
      },
      "execution_count": 46,
      "outputs": []
    },
    {
      "cell_type": "code",
      "source": [
        "y_data # verifying y"
      ],
      "metadata": {
        "colab": {
          "base_uri": "https://localhost:8080/"
        },
        "id": "1HhkI6Bdolhk",
        "outputId": "545ab032-4d6b-49b6-d4fe-e5c36ca54c26"
      },
      "execution_count": 47,
      "outputs": [
        {
          "output_type": "execute_result",
          "data": {
            "text/plain": [
              "array(['red', 'red', 'red', ..., 'white', 'white', 'white'], dtype=object)"
            ]
          },
          "metadata": {},
          "execution_count": 47
        }
      ]
    },
    {
      "cell_type": "code",
      "source": [
        "type(y_data) # checking the format"
      ],
      "metadata": {
        "colab": {
          "base_uri": "https://localhost:8080/"
        },
        "id": "4XXvruC5o-qp",
        "outputId": "45baf99e-a53a-4441-93a4-fd3307b6e3f3"
      },
      "execution_count": 48,
      "outputs": [
        {
          "output_type": "execute_result",
          "data": {
            "text/plain": [
              "numpy.ndarray"
            ]
          },
          "metadata": {},
          "execution_count": 48
        }
      ]
    },
    {
      "cell_type": "markdown",
      "source": [
        "# Categorical attribute handling\n",
        "\n",
        "Transforming the categorical attribute \"style\" (white or red) into a number (0 or 1)"
      ],
      "metadata": {
        "id": "1yhQQEOcput9"
      }
    },
    {
      "cell_type": "code",
      "source": [
        "from sklearn.preprocessing import LabelEncoder"
      ],
      "metadata": {
        "id": "mTqqcky7pE-O"
      },
      "execution_count": 49,
      "outputs": []
    },
    {
      "cell_type": "code",
      "source": [
        "label_encoder_style = LabelEncoder()"
      ],
      "metadata": {
        "id": "pato_q5BpsDT"
      },
      "execution_count": 50,
      "outputs": []
    },
    {
      "cell_type": "code",
      "source": [
        "y_data = label_encoder_style.fit_transform(y_data)"
      ],
      "metadata": {
        "id": "I2BOm9DVqAxT"
      },
      "execution_count": 51,
      "outputs": []
    },
    {
      "cell_type": "code",
      "source": [
        "y_data"
      ],
      "metadata": {
        "colab": {
          "base_uri": "https://localhost:8080/"
        },
        "id": "BRMpiyR6qMtS",
        "outputId": "3d5efee3-fcc4-4f2c-bb9f-802cc59895db"
      },
      "execution_count": 52,
      "outputs": [
        {
          "output_type": "execute_result",
          "data": {
            "text/plain": [
              "array([0, 0, 0, ..., 1, 1, 1])"
            ]
          },
          "metadata": {},
          "execution_count": 52
        }
      ]
    },
    {
      "cell_type": "markdown",
      "source": [
        "# Escalation of values\n",
        "\n",
        "that is, leaving the values on the same scale so the algorithms don't think that one parameter is more important than the other because of very different scales"
      ],
      "metadata": {
        "id": "vaTFCW8NqnB0"
      }
    },
    {
      "cell_type": "code",
      "source": [
        "from sklearn.preprocessing import StandardScaler\n",
        "scaler_data = StandardScaler()\n",
        "x_data = scaler_data.fit_transform(x_data)"
      ],
      "metadata": {
        "id": "VgmHmvOGqXbi"
      },
      "execution_count": 53,
      "outputs": []
    },
    {
      "cell_type": "code",
      "source": [
        "x_data"
      ],
      "metadata": {
        "colab": {
          "base_uri": "https://localhost:8080/"
        },
        "id": "9aNOgz-Pqw90",
        "outputId": "a5403da9-7fb3-40ae-f215-ca7381aab61d"
      },
      "execution_count": 54,
      "outputs": [
        {
          "output_type": "execute_result",
          "data": {
            "text/plain": [
              "array([[ 2.18883292, -2.19283252, -0.7447781 , ...,  0.19309677,\n",
              "        -0.91546416, -0.93722961],\n",
              "       [ 3.28223494, -2.19283252, -0.59764007, ...,  0.99957862,\n",
              "        -0.58006813, -0.93722961],\n",
              "       [ 2.55330026, -1.91755268, -0.66069923, ...,  0.79795816,\n",
              "        -0.58006813, -0.93722961],\n",
              "       ...,\n",
              "       [-0.6054167 , -0.88525328, -0.89191614, ..., -0.47897144,\n",
              "        -0.91546416,  0.20799905],\n",
              "       [-0.30169391, -0.12823371, -0.91293585, ..., -1.016626  ,\n",
              "         1.9354021 ,  1.35322771],\n",
              "       [-0.78765037,  0.42232597, -0.97599501, ..., -1.41986693,\n",
              "         1.09691202,  0.20799905]])"
            ]
          },
          "metadata": {},
          "execution_count": 54
        }
      ]
    },
    {
      "cell_type": "markdown",
      "source": [
        "# Splitting the database into training and testing\n",
        "\n",
        "in this case, setting aside 25% of the data for testing"
      ],
      "metadata": {
        "id": "vUvFcdVWrMLq"
      }
    },
    {
      "cell_type": "code",
      "source": [
        "from sklearn.model_selection import train_test_split"
      ],
      "metadata": {
        "id": "HreNtid1q1bW"
      },
      "execution_count": 55,
      "outputs": []
    },
    {
      "cell_type": "code",
      "source": [
        "x_data_training, x_data_testing, y_data_training, y_data_testing = train_test_split(x_data, y_data, test_size = 0.25, random_state = 0)"
      ],
      "metadata": {
        "id": "SUNnuXfUrbEu"
      },
      "execution_count": 56,
      "outputs": []
    },
    {
      "cell_type": "code",
      "source": [
        "x_data_training.shape , y_data_training.shape"
      ],
      "metadata": {
        "colab": {
          "base_uri": "https://localhost:8080/"
        },
        "id": "YpUWe4CTsKpm",
        "outputId": "d7ea66ef-cace-4d78-f39c-fa0c43fa822c"
      },
      "execution_count": 57,
      "outputs": [
        {
          "output_type": "execute_result",
          "data": {
            "text/plain": [
              "((4872, 11), (4872,))"
            ]
          },
          "metadata": {},
          "execution_count": 57
        }
      ]
    },
    {
      "cell_type": "code",
      "source": [
        "x_data_testing.shape , y_data_testing.shape"
      ],
      "metadata": {
        "colab": {
          "base_uri": "https://localhost:8080/"
        },
        "id": "H0mUPMCEr_gb",
        "outputId": "e2563603-54ea-4c74-f372-a51302b57b4c"
      },
      "execution_count": 58,
      "outputs": [
        {
          "output_type": "execute_result",
          "data": {
            "text/plain": [
              "((1625, 11), (1625,))"
            ]
          },
          "metadata": {},
          "execution_count": 58
        }
      ]
    },
    {
      "cell_type": "markdown",
      "source": [
        "# Saving preprocessed variables"
      ],
      "metadata": {
        "id": "evZSp9-msdHG"
      }
    },
    {
      "cell_type": "code",
      "source": [
        "import pickle"
      ],
      "metadata": {
        "id": "2wVQBcicsRIU"
      },
      "execution_count": 59,
      "outputs": []
    },
    {
      "cell_type": "code",
      "source": [
        "with open('wine_data.pkl', mode = 'wb') as f:\n",
        "  pickle.dump([x_data_training, y_data_training, x_data_testing, y_data_testing], f)"
      ],
      "metadata": {
        "id": "9cLsVpS_smX0"
      },
      "execution_count": 60,
      "outputs": []
    },
    {
      "cell_type": "markdown",
      "source": [
        "#Testing ML algorithms for classification:\n",
        "\n",
        "In this section, we will test 7 of the main algorithms used for classification"
      ],
      "metadata": {
        "id": "R2O6Vwxeu3Tl"
      }
    },
    {
      "cell_type": "markdown",
      "source": [
        "# Naïve Bayes 98.09"
      ],
      "metadata": {
        "id": "n-ZHohtzvCSK"
      }
    },
    {
      "cell_type": "code",
      "source": [
        "from sklearn.naive_bayes import GaussianNB"
      ],
      "metadata": {
        "id": "4_TkGNYsvJWL"
      },
      "execution_count": 30,
      "outputs": []
    },
    {
      "cell_type": "code",
      "source": [
        "naive_data = GaussianNB()\n",
        "naive_data.fit(x_data_training, y_data_training)"
      ],
      "metadata": {
        "colab": {
          "base_uri": "https://localhost:8080/"
        },
        "id": "gK4FZEWEviv_",
        "outputId": "e13b0845-fc06-4acf-9296-3388a4d364ac"
      },
      "execution_count": 31,
      "outputs": [
        {
          "output_type": "execute_result",
          "data": {
            "text/plain": [
              "GaussianNB()"
            ]
          },
          "metadata": {},
          "execution_count": 31
        }
      ]
    },
    {
      "cell_type": "code",
      "source": [
        "predictions = naive_data.predict(x_data_testing)"
      ],
      "metadata": {
        "id": "dr12Q1z-viyf"
      },
      "execution_count": 32,
      "outputs": []
    },
    {
      "cell_type": "code",
      "source": [
        "predictions"
      ],
      "metadata": {
        "colab": {
          "base_uri": "https://localhost:8080/"
        },
        "id": "hd27y2QRvjBE",
        "outputId": "9541ef03-5b4a-49cc-9650-75641fafb889"
      },
      "execution_count": null,
      "outputs": [
        {
          "output_type": "execute_result",
          "data": {
            "text/plain": [
              "array([1, 1, 1, ..., 1, 0, 1])"
            ]
          },
          "metadata": {},
          "execution_count": 41
        }
      ]
    },
    {
      "cell_type": "code",
      "source": [
        "y_data_testing"
      ],
      "metadata": {
        "colab": {
          "base_uri": "https://localhost:8080/"
        },
        "id": "iznXUIwHwWJT",
        "outputId": "aa1699de-02aa-4b1f-d3ab-f18cf6fcee59"
      },
      "execution_count": null,
      "outputs": [
        {
          "output_type": "execute_result",
          "data": {
            "text/plain": [
              "array([1, 1, 1, ..., 1, 0, 1])"
            ]
          },
          "metadata": {},
          "execution_count": 42
        }
      ]
    },
    {
      "cell_type": "code",
      "source": [
        "from sklearn.metrics import accuracy_score, confusion_matrix, classification_report"
      ],
      "metadata": {
        "id": "AgxTeDz-wZJo"
      },
      "execution_count": null,
      "outputs": []
    },
    {
      "cell_type": "code",
      "source": [
        "accuracy_score(y_data_testing, predictions) * 100"
      ],
      "metadata": {
        "colab": {
          "base_uri": "https://localhost:8080/"
        },
        "id": "_FztZcXXwbD_",
        "outputId": "6c60d884-cb6b-4b9e-ddb7-9f3c05aba919"
      },
      "execution_count": null,
      "outputs": [
        {
          "output_type": "execute_result",
          "data": {
            "text/plain": [
              "98.09230769230768"
            ]
          },
          "metadata": {},
          "execution_count": 45
        }
      ]
    },
    {
      "cell_type": "code",
      "source": [
        "from yellowbrick.classifier import ConfusionMatrix"
      ],
      "metadata": {
        "id": "_oWqg82iwqVt"
      },
      "execution_count": null,
      "outputs": []
    },
    {
      "cell_type": "code",
      "source": [
        "cm = ConfusionMatrix(naive_data)\n",
        "cm.fit(x_data_training, y_data_training)\n",
        "cm.score(x_data_testing, y_data_testing)"
      ],
      "metadata": {
        "colab": {
          "base_uri": "https://localhost:8080/"
        },
        "id": "mgZocW-Zw01E",
        "outputId": "fa277b5b-9284-44d5-f5bd-9e6b74187301"
      },
      "execution_count": null,
      "outputs": [
        {
          "output_type": "execute_result",
          "data": {
            "text/plain": [
              "0.9809230769230769"
            ]
          },
          "metadata": {},
          "execution_count": 47
        },
        {
          "output_type": "display_data",
          "data": {
            "text/plain": [
              "<Figure size 576x396 with 1 Axes>"
            ],
            "image/png": "[encoded data removed]"
          },
          "metadata": {}
        }
      ]
    },
    {
      "cell_type": "code",
      "source": [
        "print(classification_report(y_data_testing, predictions))"
      ],
      "metadata": {
        "colab": {
          "base_uri": "https://localhost:8080/"
        },
        "id": "_9bKTF3jxMPf",
        "outputId": "35ce84d4-d815-4f52-fc3c-f2253b2ff65e"
      },
      "execution_count": null,
      "outputs": [
        {
          "output_type": "stream",
          "name": "stdout",
          "text": [
            "              precision    recall  f1-score   support\n",
            "\n",
            "           0       0.95      0.97      0.96       392\n",
            "           1       0.99      0.98      0.99      1233\n",
            "\n",
            "    accuracy                           0.98      1625\n",
            "   macro avg       0.97      0.98      0.97      1625\n",
            "weighted avg       0.98      0.98      0.98      1625\n",
            "\n"
          ]
        }
      ]
    },
    {
      "cell_type": "markdown",
      "source": [
        "# Decision tree 98.89"
      ],
      "metadata": {
        "id": "JiKI4QGRu9PJ"
      }
    },
    {
      "cell_type": "code",
      "source": [
        "from sklearn.tree import DecisionTreeClassifier"
      ],
      "metadata": {
        "id": "nU9rCAyis7Ft"
      },
      "execution_count": null,
      "outputs": []
    },
    {
      "cell_type": "code",
      "source": [
        "tree_data = DecisionTreeClassifier(criterion='entropy', random_state = 0)\n",
        "tree_data.fit(x_data_training, y_data_training)"
      ],
      "metadata": {
        "colab": {
          "base_uri": "https://localhost:8080/"
        },
        "id": "YX60yJlVxbab",
        "outputId": "cf9c3546-4872-4724-a8cb-72d928fc3966"
      },
      "execution_count": null,
      "outputs": [
        {
          "output_type": "execute_result",
          "data": {
            "text/plain": [
              "DecisionTreeClassifier(criterion='entropy', random_state=0)"
            ]
          },
          "metadata": {},
          "execution_count": 54
        }
      ]
    },
    {
      "cell_type": "code",
      "source": [
        "predictions = tree_data.predict(x_data_testing)\n",
        "predictions"
      ],
      "metadata": {
        "colab": {
          "base_uri": "https://localhost:8080/"
        },
        "id": "m1MWcv0vxvdF",
        "outputId": "77ddf794-c235-468b-8941-f055b72e7191"
      },
      "execution_count": null,
      "outputs": [
        {
          "output_type": "execute_result",
          "data": {
            "text/plain": [
              "array([1, 1, 1, ..., 1, 0, 1])"
            ]
          },
          "metadata": {},
          "execution_count": 55
        }
      ]
    },
    {
      "cell_type": "code",
      "source": [
        "accuracy_score(y_data_testing, predictions) *100"
      ],
      "metadata": {
        "colab": {
          "base_uri": "https://localhost:8080/"
        },
        "id": "g6THRVBdx5iL",
        "outputId": "8f777d7f-f7ef-4867-b25e-f630ad20e2e1"
      },
      "execution_count": null,
      "outputs": [
        {
          "output_type": "execute_result",
          "data": {
            "text/plain": [
              "98.8923076923077"
            ]
          },
          "metadata": {},
          "execution_count": 56
        }
      ]
    },
    {
      "cell_type": "code",
      "source": [
        "cm = ConfusionMatrix(tree_data)\n",
        "cm.fit(x_data_training, y_data_training)\n",
        "cm.score(x_data_testing, y_data_testing)"
      ],
      "metadata": {
        "colab": {
          "base_uri": "https://localhost:8080/",
          "height": 362
        },
        "id": "ZE2MZuKByDon",
        "outputId": "ce5ad38b-2058-4a55-8ee2-d9656d45017a"
      },
      "execution_count": null,
      "outputs": [
        {
          "output_type": "execute_result",
          "data": {
            "text/plain": [
              "0.9889230769230769"
            ]
          },
          "metadata": {},
          "execution_count": 57
        },
        {
          "output_type": "display_data",
          "data": {
            "text/plain": [
              "<Figure size 576x396 with 1 Axes>"
            ],
            "image/png": "[encoded data removed]"
          },
          "metadata": {}
        }
      ]
    },
    {
      "cell_type": "code",
      "source": [
        "print(classification_report(y_data_testing, predictions))"
      ],
      "metadata": {
        "colab": {
          "base_uri": "https://localhost:8080/"
        },
        "id": "0ZFItKT6yhlF",
        "outputId": "9be9ed9d-c445-4fd1-9c21-b5fc92bef470"
      },
      "execution_count": null,
      "outputs": [
        {
          "output_type": "stream",
          "name": "stdout",
          "text": [
            "              precision    recall  f1-score   support\n",
            "\n",
            "           0       0.97      0.98      0.98       392\n",
            "           1       0.99      0.99      0.99      1233\n",
            "\n",
            "    accuracy                           0.99      1625\n",
            "   macro avg       0.98      0.99      0.98      1625\n",
            "weighted avg       0.99      0.99      0.99      1625\n",
            "\n"
          ]
        }
      ]
    },
    {
      "cell_type": "code",
      "source": [
        "from sklearn import tree\n",
        "forecasters = x_data\n",
        "fig, axes = plt.subplots(nrows = 1,ncols = 1,figsize = (20,20))\n",
        "tree.plot_tree(tree_data, feature_names=forecasters, class_names=['0','1'], filled=True);\n",
        "fig.savefig('tree_data.png')"
      ],
      "metadata": {
        "colab": {
          "base_uri": "https://localhost:8080/",
          "height": 1000
        },
        "id": "osRCvi7yymQD",
        "outputId": "8684bafb-82ba-40c0-e172-1cd22f609377"
      },
      "execution_count": null,
      "outputs": [
        {
          "output_type": "display_data",
          "data": {
            "text/plain": [
              "<Figure size 1440x1440 with 1 Axes>"
            ],
            "image/png": "[encoded data removed]"
          },
          "metadata": {}
        }
      ]
    },
    {
      "cell_type": "markdown",
      "source": [
        "# Random Forest 99.51"
      ],
      "metadata": {
        "id": "JSH6V5q0yn91"
      }
    },
    {
      "cell_type": "code",
      "source": [
        "from sklearn.ensemble import RandomForestClassifier"
      ],
      "metadata": {
        "id": "HN7FVs8ez2bU"
      },
      "execution_count": null,
      "outputs": []
    },
    {
      "cell_type": "code",
      "source": [
        "random_forest_data = RandomForestClassifier(n_estimators=10, criterion='entropy', random_state = 0)\n",
        "random_forest_data.fit(x_data_training, y_data_training)"
      ],
      "metadata": {
        "colab": {
          "base_uri": "https://localhost:8080/"
        },
        "id": "GsOuBeK5z2ds",
        "outputId": "2db6cdb4-88b2-43f1-b0f5-cc9fab0f0250"
      },
      "execution_count": null,
      "outputs": [
        {
          "output_type": "execute_result",
          "data": {
            "text/plain": [
              "RandomForestClassifier(criterion='entropy', n_estimators=10, random_state=0)"
            ]
          },
          "metadata": {},
          "execution_count": 74
        }
      ]
    },
    {
      "cell_type": "code",
      "source": [
        "predictions = random_forest_data.predict(x_data_testing)\n",
        "predictions"
      ],
      "metadata": {
        "colab": {
          "base_uri": "https://localhost:8080/"
        },
        "id": "ViI4JUUu0M1n",
        "outputId": "bcdb8277-dc78-4157-cbb8-2f3811fc3ba6"
      },
      "execution_count": null,
      "outputs": [
        {
          "output_type": "execute_result",
          "data": {
            "text/plain": [
              "array([1, 1, 1, ..., 1, 0, 1])"
            ]
          },
          "metadata": {},
          "execution_count": 75
        }
      ]
    },
    {
      "cell_type": "code",
      "source": [
        "accuracy_score(y_data_testing, predictions) *100"
      ],
      "metadata": {
        "colab": {
          "base_uri": "https://localhost:8080/"
        },
        "id": "kdWD6bqZ0kGj",
        "outputId": "8a1140f3-4519-455d-eb2d-ff67dc1a923b"
      },
      "execution_count": null,
      "outputs": [
        {
          "output_type": "execute_result",
          "data": {
            "text/plain": [
              "99.50769230769231"
            ]
          },
          "metadata": {},
          "execution_count": 76
        }
      ]
    },
    {
      "cell_type": "code",
      "source": [
        "cm = ConfusionMatrix(random_forest_data)\n",
        "cm.fit(x_data_training, y_data_training)\n",
        "cm.score(x_data_testing, y_data_testing)"
      ],
      "metadata": {
        "colab": {
          "base_uri": "https://localhost:8080/",
          "height": 362
        },
        "id": "ScPPPKO60pox",
        "outputId": "6251e594-0091-4d11-82cc-f5e506834703"
      },
      "execution_count": null,
      "outputs": [
        {
          "output_type": "execute_result",
          "data": {
            "text/plain": [
              "0.9950769230769231"
            ]
          },
          "metadata": {},
          "execution_count": 77
        },
        {
          "output_type": "display_data",
          "data": {
            "text/plain": [
              "<Figure size 576x396 with 1 Axes>"
            ],
            "image/png": "[encoded data removed]"
          },
          "metadata": {}
        }
      ]
    },
    {
      "cell_type": "code",
      "source": [
        "print(classification_report(y_data_testing, predictions))"
      ],
      "metadata": {
        "colab": {
          "base_uri": "https://localhost:8080/"
        },
        "id": "ro-2jpjJ04s5",
        "outputId": "3ffe1345-c235-4faf-99cc-084ea26c0aa7"
      },
      "execution_count": null,
      "outputs": [
        {
          "output_type": "stream",
          "name": "stdout",
          "text": [
            "              precision    recall  f1-score   support\n",
            "\n",
            "           0       0.98      0.99      0.99       392\n",
            "           1       1.00      1.00      1.00      1233\n",
            "\n",
            "    accuracy                           1.00      1625\n",
            "   macro avg       0.99      1.00      0.99      1625\n",
            "weighted avg       1.00      1.00      1.00      1625\n",
            "\n"
          ]
        }
      ]
    },
    {
      "cell_type": "markdown",
      "source": [
        "# Instance-based learning - knn 99.38"
      ],
      "metadata": {
        "id": "BFUx2z_V1NLw"
      }
    },
    {
      "cell_type": "code",
      "source": [
        "from sklearn.neighbors import KNeighborsClassifier"
      ],
      "metadata": {
        "id": "CrkoWilA1L2T"
      },
      "execution_count": null,
      "outputs": []
    },
    {
      "cell_type": "code",
      "source": [
        "knn_data = KNeighborsClassifier(n_neighbors=10)\n",
        "knn_data.fit(x_data_training, y_data_training)"
      ],
      "metadata": {
        "colab": {
          "base_uri": "https://localhost:8080/"
        },
        "id": "Ufk1kDTo1xQZ",
        "outputId": "3b8a5f74-5d56-4fe7-ca41-b9b498ce9b6a"
      },
      "execution_count": null,
      "outputs": [
        {
          "output_type": "execute_result",
          "data": {
            "text/plain": [
              "KNeighborsClassifier(n_neighbors=10)"
            ]
          },
          "metadata": {},
          "execution_count": 80
        }
      ]
    },
    {
      "cell_type": "code",
      "source": [
        "predictions = knn_data.predict(x_data_testing)\n",
        "predictions"
      ],
      "metadata": {
        "colab": {
          "base_uri": "https://localhost:8080/"
        },
        "id": "jY6HKLub2QML",
        "outputId": "016f7c52-a9cb-4134-82cf-f25480f25956"
      },
      "execution_count": null,
      "outputs": [
        {
          "output_type": "execute_result",
          "data": {
            "text/plain": [
              "array([1, 1, 1, ..., 1, 0, 1])"
            ]
          },
          "metadata": {},
          "execution_count": 81
        }
      ]
    },
    {
      "cell_type": "code",
      "source": [
        "accuracy_score(y_data_testing, predictions) *100"
      ],
      "metadata": {
        "colab": {
          "base_uri": "https://localhost:8080/"
        },
        "id": "4Tw4CW772Z_4",
        "outputId": "e7830ee6-0a31-4c1e-ffde-2df35d4a3268"
      },
      "execution_count": null,
      "outputs": [
        {
          "output_type": "execute_result",
          "data": {
            "text/plain": [
              "99.38461538461539"
            ]
          },
          "metadata": {},
          "execution_count": 82
        }
      ]
    },
    {
      "cell_type": "code",
      "source": [
        "cm = ConfusionMatrix(knn_data)\n",
        "cm.fit(x_data_training, y_data_training)\n",
        "cm.score(x_data_testing, y_data_testing)"
      ],
      "metadata": {
        "colab": {
          "base_uri": "https://localhost:8080/",
          "height": 362
        },
        "id": "PuDXbLQy2eAI",
        "outputId": "ecee0194-8f8b-443b-ea4a-e5fd845e0c25"
      },
      "execution_count": null,
      "outputs": [
        {
          "output_type": "execute_result",
          "data": {
            "text/plain": [
              "0.9938461538461538"
            ]
          },
          "metadata": {},
          "execution_count": 83
        },
        {
          "output_type": "display_data",
          "data": {
            "text/plain": [
              "<Figure size 576x396 with 1 Axes>"
            ],
            "image/png": "[encoded data removed]"
          },
          "metadata": {}
        }
      ]
    },
    {
      "cell_type": "code",
      "source": [
        "print(classification_report(y_data_testing, predictions))"
      ],
      "metadata": {
        "colab": {
          "base_uri": "https://localhost:8080/"
        },
        "id": "sScWZR2T2jcl",
        "outputId": "4e7afe61-e445-4168-862c-89a98568b34c"
      },
      "execution_count": null,
      "outputs": [
        {
          "output_type": "stream",
          "name": "stdout",
          "text": [
            "              precision    recall  f1-score   support\n",
            "\n",
            "           0       0.98      0.99      0.99       392\n",
            "           1       1.00      0.99      1.00      1233\n",
            "\n",
            "    accuracy                           0.99      1625\n",
            "   macro avg       0.99      0.99      0.99      1625\n",
            "weighted avg       0.99      0.99      0.99      1625\n",
            "\n"
          ]
        }
      ]
    },
    {
      "cell_type": "markdown",
      "source": [
        "# Logistic regression 99.45"
      ],
      "metadata": {
        "id": "K6q0_JKP2roF"
      }
    },
    {
      "cell_type": "code",
      "source": [
        "from sklearn.linear_model import LogisticRegression"
      ],
      "metadata": {
        "id": "rpAoZHVM2mJS"
      },
      "execution_count": null,
      "outputs": []
    },
    {
      "cell_type": "code",
      "source": [
        "logistic_data = LogisticRegression(random_state=1)\n",
        "logistic_data.fit(x_data_training, y_data_training)"
      ],
      "metadata": {
        "colab": {
          "base_uri": "https://localhost:8080/"
        },
        "id": "hUgyaAAw3SSs",
        "outputId": "a03bd909-478e-43ad-88ff-acd88b13f79d"
      },
      "execution_count": null,
      "outputs": [
        {
          "output_type": "execute_result",
          "data": {
            "text/plain": [
              "LogisticRegression(random_state=1)"
            ]
          },
          "metadata": {},
          "execution_count": 86
        }
      ]
    },
    {
      "cell_type": "code",
      "source": [
        "logistic_data.intercept_"
      ],
      "metadata": {
        "colab": {
          "base_uri": "https://localhost:8080/"
        },
        "id": "d-Zw4KDd3iW6",
        "outputId": "c5a0761c-9e75-4458-b535-96f2532c2bfa"
      },
      "execution_count": null,
      "outputs": [
        {
          "output_type": "execute_result",
          "data": {
            "text/plain": [
              "array([3.33102924])"
            ]
          },
          "metadata": {},
          "execution_count": 87
        }
      ]
    },
    {
      "cell_type": "code",
      "source": [
        "logistic_data.coef_"
      ],
      "metadata": {
        "colab": {
          "base_uri": "https://localhost:8080/"
        },
        "id": "4cm573FH3o_n",
        "outputId": "b2dbd862-0bb7-4db3-fe76-bd954d3e23d8"
      },
      "execution_count": null,
      "outputs": [
        {
          "output_type": "execute_result",
          "data": {
            "text/plain": [
              "array([[-1.03854906,  0.27758534,  2.75516302, -0.81264315, -0.70624254,\n",
              "         2.65360347, -4.5811219 , -0.16963354, -0.45014108, -1.81432649,\n",
              "        -0.31439959]])"
            ]
          },
          "metadata": {},
          "execution_count": 88
        }
      ]
    },
    {
      "cell_type": "code",
      "source": [
        "predictions = logistic_data.predict(x_data_testing)\n",
        "predictions"
      ],
      "metadata": {
        "colab": {
          "base_uri": "https://localhost:8080/"
        },
        "id": "JjBVwsv_3rTZ",
        "outputId": "69a62114-cee2-4547-e5a6-6e6c1fafdae4"
      },
      "execution_count": null,
      "outputs": [
        {
          "output_type": "execute_result",
          "data": {
            "text/plain": [
              "array([1, 1, 1, ..., 1, 0, 1])"
            ]
          },
          "metadata": {},
          "execution_count": 89
        }
      ]
    },
    {
      "cell_type": "code",
      "source": [
        "accuracy_score(y_data_testing, predictions) *100"
      ],
      "metadata": {
        "colab": {
          "base_uri": "https://localhost:8080/"
        },
        "id": "FQeiUgzZ31qf",
        "outputId": "8b4d7957-a53e-4f50-dda0-68c000342b28"
      },
      "execution_count": null,
      "outputs": [
        {
          "output_type": "execute_result",
          "data": {
            "text/plain": [
              "99.44615384615385"
            ]
          },
          "metadata": {},
          "execution_count": 90
        }
      ]
    },
    {
      "cell_type": "code",
      "source": [
        "cm = ConfusionMatrix(logistic_data)\n",
        "cm.fit(x_data_training, y_data_training)\n",
        "cm.score(x_data_testing, y_data_testing)"
      ],
      "metadata": {
        "colab": {
          "base_uri": "https://localhost:8080/",
          "height": 362
        },
        "id": "hcW3TY4z36gu",
        "outputId": "5c532b73-ca5f-4352-f228-e9b98969a24e"
      },
      "execution_count": null,
      "outputs": [
        {
          "output_type": "execute_result",
          "data": {
            "text/plain": [
              "0.9944615384615385"
            ]
          },
          "metadata": {},
          "execution_count": 91
        },
        {
          "output_type": "display_data",
          "data": {
            "text/plain": [
              "<Figure size 576x396 with 1 Axes>"
            ],
            "image/png": "[encoded data removed]"
          },
          "metadata": {}
        }
      ]
    },
    {
      "cell_type": "code",
      "source": [
        "print(classification_report(y_data_testing, predictions))"
      ],
      "metadata": {
        "colab": {
          "base_uri": "https://localhost:8080/"
        },
        "id": "i_azbn6g4ELo",
        "outputId": "b0b0cc62-99e1-4ef3-8651-72fd21eee914"
      },
      "execution_count": null,
      "outputs": [
        {
          "output_type": "stream",
          "name": "stdout",
          "text": [
            "              precision    recall  f1-score   support\n",
            "\n",
            "           0       0.99      0.99      0.99       392\n",
            "           1       1.00      1.00      1.00      1233\n",
            "\n",
            "    accuracy                           0.99      1625\n",
            "   macro avg       0.99      0.99      0.99      1625\n",
            "weighted avg       0.99      0.99      0.99      1625\n",
            "\n"
          ]
        }
      ]
    },
    {
      "cell_type": "markdown",
      "source": [
        "# SVM 99.57"
      ],
      "metadata": {
        "id": "WA3TQZGL4I4N"
      }
    },
    {
      "cell_type": "code",
      "source": [
        "from sklearn.svm import SVC"
      ],
      "metadata": {
        "id": "sCiMW7Ud4G-a"
      },
      "execution_count": 63,
      "outputs": []
    },
    {
      "cell_type": "code",
      "source": [
        "svm_data = SVC(kernel='linear', random_state=1)\n",
        "svm_data.fit(x_data_training, y_data_training)"
      ],
      "metadata": {
        "colab": {
          "base_uri": "https://localhost:8080/"
        },
        "id": "zxachwxD4PvN",
        "outputId": "958145ce-aa1e-4e14-a17e-139c3eb15934"
      },
      "execution_count": 64,
      "outputs": [
        {
          "output_type": "execute_result",
          "data": {
            "text/plain": [
              "SVC(kernel='linear', random_state=1)"
            ]
          },
          "metadata": {},
          "execution_count": 64
        }
      ]
    },
    {
      "cell_type": "code",
      "source": [
        "predictions = svm_data.predict(x_data_testing)\n",
        "predictions"
      ],
      "metadata": {
        "colab": {
          "base_uri": "https://localhost:8080/"
        },
        "id": "xIIMcNw_4Z5O",
        "outputId": "37038431-248a-42e5-fcfb-a20165861cd3"
      },
      "execution_count": null,
      "outputs": [
        {
          "output_type": "execute_result",
          "data": {
            "text/plain": [
              "array([1, 1, 1, ..., 1, 0, 1])"
            ]
          },
          "metadata": {},
          "execution_count": 95
        }
      ]
    },
    {
      "cell_type": "code",
      "source": [
        "accuracy_score(y_data_testing, predictions) *100"
      ],
      "metadata": {
        "colab": {
          "base_uri": "https://localhost:8080/"
        },
        "id": "DGFNn3GE4jDI",
        "outputId": "0fb79de6-22e8-4217-8707-277481700bf7"
      },
      "execution_count": null,
      "outputs": [
        {
          "output_type": "execute_result",
          "data": {
            "text/plain": [
              "99.56923076923077"
            ]
          },
          "metadata": {},
          "execution_count": 96
        }
      ]
    },
    {
      "cell_type": "code",
      "source": [
        "cm = ConfusionMatrix(svm_data)\n",
        "cm.fit(x_data_training, y_data_training)\n",
        "cm.score(x_data_testing, y_data_testing)"
      ],
      "metadata": {
        "colab": {
          "base_uri": "https://localhost:8080/",
          "height": 362
        },
        "id": "GoFVXPTt4laL",
        "outputId": "4606559b-2058-4d33-ddc9-1509179bcc8c"
      },
      "execution_count": null,
      "outputs": [
        {
          "output_type": "execute_result",
          "data": {
            "text/plain": [
              "0.9956923076923077"
            ]
          },
          "metadata": {},
          "execution_count": 97
        },
        {
          "output_type": "display_data",
          "data": {
            "text/plain": [
              "<Figure size 576x396 with 1 Axes>"
            ],
            "image/png": "[encoded data removed]"
          },
          "metadata": {}
        }
      ]
    },
    {
      "cell_type": "code",
      "source": [
        "print(classification_report(y_data_testing, predictions))"
      ],
      "metadata": {
        "colab": {
          "base_uri": "https://localhost:8080/"
        },
        "id": "vMX2w0Id4s8x",
        "outputId": "b7238af5-9f63-4745-d845-4be4bfb379cc"
      },
      "execution_count": null,
      "outputs": [
        {
          "output_type": "stream",
          "name": "stdout",
          "text": [
            "              precision    recall  f1-score   support\n",
            "\n",
            "           0       0.99      0.99      0.99       392\n",
            "           1       1.00      1.00      1.00      1233\n",
            "\n",
            "    accuracy                           1.00      1625\n",
            "   macro avg       0.99      1.00      0.99      1625\n",
            "weighted avg       1.00      1.00      1.00      1625\n",
            "\n"
          ]
        }
      ]
    },
    {
      "cell_type": "markdown",
      "source": [
        "# Artificial neural networks 99.26"
      ],
      "metadata": {
        "id": "z2foq7-14xeh"
      }
    },
    {
      "cell_type": "code",
      "source": [
        "from sklearn.neural_network import MLPClassifier"
      ],
      "metadata": {
        "id": "2oMnncJm4vhV"
      },
      "execution_count": null,
      "outputs": []
    },
    {
      "cell_type": "code",
      "source": [
        "# 12 -> 7 -> 7 -> 1\n",
        "neural_data = MLPClassifier(verbose=True, max_iter = 1000, tol=0.000010,\n",
        "                                  hidden_layer_sizes = (7,7))\n",
        "neural_data.fit(x_data_training, y_data_training)"
      ],
      "metadata": {
        "colab": {
          "base_uri": "https://localhost:8080/"
        },
        "id": "EQfbK_Ou4-RJ",
        "outputId": "bba213a0-86b9-4518-abcf-0aacc9cd9cfc"
      },
      "execution_count": null,
      "outputs": [
        {
          "output_type": "stream",
          "name": "stdout",
          "text": [
            "Iteration 1, loss = 0.87901599\n",
            "Iteration 2, loss = 0.80616127\n",
            "Iteration 3, loss = 0.75355196\n",
            "Iteration 4, loss = 0.70878453\n",
            "Iteration 5, loss = 0.66355677\n",
            "Iteration 6, loss = 0.61222310\n",
            "Iteration 7, loss = 0.55204035\n",
            "Iteration 8, loss = 0.48802847\n",
            "Iteration 9, loss = 0.42441311\n",
            "Iteration 10, loss = 0.36206703\n",
            "Iteration 11, loss = 0.30471749\n",
            "Iteration 12, loss = 0.25450333\n",
            "Iteration 13, loss = 0.21234134\n",
            "Iteration 14, loss = 0.17859731\n",
            "Iteration 15, loss = 0.15167306\n",
            "Iteration 16, loss = 0.13073115\n",
            "Iteration 17, loss = 0.11422762\n",
            "Iteration 18, loss = 0.10125877\n",
            "Iteration 19, loss = 0.09066430\n",
            "Iteration 20, loss = 0.08217770\n",
            "Iteration 21, loss = 0.07527654\n",
            "Iteration 22, loss = 0.06942438\n",
            "Iteration 23, loss = 0.06443514\n",
            "Iteration 24, loss = 0.06033092\n",
            "Iteration 25, loss = 0.05660515\n",
            "Iteration 26, loss = 0.05356708\n",
            "Iteration 27, loss = 0.05084715\n",
            "Iteration 28, loss = 0.04860107\n",
            "Iteration 29, loss = 0.04647184\n",
            "Iteration 30, loss = 0.04463568\n",
            "Iteration 31, loss = 0.04308467\n",
            "Iteration 32, loss = 0.04162853\n",
            "Iteration 33, loss = 0.04031747\n",
            "Iteration 34, loss = 0.03933989\n",
            "Iteration 35, loss = 0.03815188\n",
            "Iteration 36, loss = 0.03722801\n",
            "Iteration 37, loss = 0.03635220\n",
            "Iteration 38, loss = 0.03562108\n",
            "Iteration 39, loss = 0.03483799\n",
            "Iteration 40, loss = 0.03424830\n",
            "Iteration 41, loss = 0.03357197\n",
            "Iteration 42, loss = 0.03295354\n",
            "Iteration 43, loss = 0.03239932\n",
            "Iteration 44, loss = 0.03186663\n",
            "Iteration 45, loss = 0.03139270\n",
            "Iteration 46, loss = 0.03090364\n",
            "Iteration 47, loss = 0.03049401\n",
            "Iteration 48, loss = 0.03005486\n",
            "Iteration 49, loss = 0.02968509\n",
            "Iteration 50, loss = 0.02927138\n",
            "Iteration 51, loss = 0.02890081\n",
            "Iteration 52, loss = 0.02855847\n",
            "Iteration 53, loss = 0.02823112\n",
            "Iteration 54, loss = 0.02797616\n",
            "Iteration 55, loss = 0.02759107\n",
            "Iteration 56, loss = 0.02727205\n",
            "Iteration 57, loss = 0.02699822\n",
            "Iteration 58, loss = 0.02670850\n",
            "Iteration 59, loss = 0.02649839\n",
            "Iteration 60, loss = 0.02623850\n",
            "Iteration 61, loss = 0.02600905\n",
            "Iteration 62, loss = 0.02582541\n",
            "Iteration 63, loss = 0.02559807\n",
            "Iteration 64, loss = 0.02538793\n",
            "Iteration 65, loss = 0.02520180\n",
            "Iteration 66, loss = 0.02502586\n",
            "Iteration 67, loss = 0.02487037\n",
            "Iteration 68, loss = 0.02465733\n",
            "Iteration 69, loss = 0.02449032\n",
            "Iteration 70, loss = 0.02428645\n",
            "Iteration 71, loss = 0.02414343\n",
            "Iteration 72, loss = 0.02395157\n",
            "Iteration 73, loss = 0.02379280\n",
            "Iteration 74, loss = 0.02364962\n",
            "Iteration 75, loss = 0.02352047\n",
            "Iteration 76, loss = 0.02337974\n",
            "Iteration 77, loss = 0.02326100\n",
            "Iteration 78, loss = 0.02310577\n",
            "Iteration 79, loss = 0.02301760\n",
            "Iteration 80, loss = 0.02287951\n",
            "Iteration 81, loss = 0.02270984\n",
            "Iteration 82, loss = 0.02262167\n",
            "Iteration 83, loss = 0.02260078\n",
            "Iteration 84, loss = 0.02236498\n",
            "Iteration 85, loss = 0.02230312\n",
            "Iteration 86, loss = 0.02215758\n",
            "Iteration 87, loss = 0.02213092\n",
            "Iteration 88, loss = 0.02200908\n",
            "Iteration 89, loss = 0.02187087\n",
            "Iteration 90, loss = 0.02180020\n",
            "Iteration 91, loss = 0.02169918\n",
            "Iteration 92, loss = 0.02161838\n",
            "Iteration 93, loss = 0.02148471\n",
            "Iteration 94, loss = 0.02144272\n",
            "Iteration 95, loss = 0.02137589\n",
            "Iteration 96, loss = 0.02125417\n",
            "Iteration 97, loss = 0.02120764\n",
            "Iteration 98, loss = 0.02112812\n",
            "Iteration 99, loss = 0.02103321\n",
            "Iteration 100, loss = 0.02095884\n",
            "Iteration 101, loss = 0.02088389\n",
            "Iteration 102, loss = 0.02080224\n",
            "Iteration 103, loss = 0.02074343\n",
            "Iteration 104, loss = 0.02067530\n",
            "Iteration 105, loss = 0.02061101\n",
            "Iteration 106, loss = 0.02054067\n",
            "Iteration 107, loss = 0.02046077\n",
            "Iteration 108, loss = 0.02035727\n",
            "Iteration 109, loss = 0.02030730\n",
            "Iteration 110, loss = 0.02025220\n",
            "Iteration 111, loss = 0.02020057\n",
            "Iteration 112, loss = 0.02013051\n",
            "Iteration 113, loss = 0.02002344\n",
            "Iteration 114, loss = 0.01995856\n",
            "Iteration 115, loss = 0.01993062\n",
            "Iteration 116, loss = 0.01981650\n",
            "Iteration 117, loss = 0.01976983\n",
            "Iteration 118, loss = 0.01970256\n",
            "Iteration 119, loss = 0.01965884\n",
            "Iteration 120, loss = 0.01955322\n",
            "Iteration 121, loss = 0.01948307\n",
            "Iteration 122, loss = 0.01943491\n",
            "Iteration 123, loss = 0.01937711\n",
            "Iteration 124, loss = 0.01930018\n",
            "Iteration 125, loss = 0.01926749\n",
            "Iteration 126, loss = 0.01920838\n",
            "Iteration 127, loss = 0.01917397\n",
            "Iteration 128, loss = 0.01906298\n",
            "Iteration 129, loss = 0.01902259\n",
            "Iteration 130, loss = 0.01896289\n",
            "Iteration 131, loss = 0.01889019\n",
            "Iteration 132, loss = 0.01883218\n",
            "Iteration 133, loss = 0.01881868\n",
            "Iteration 134, loss = 0.01872293\n",
            "Iteration 135, loss = 0.01874275\n",
            "Iteration 136, loss = 0.01863634\n",
            "Iteration 137, loss = 0.01859702\n",
            "Iteration 138, loss = 0.01851077\n",
            "Iteration 139, loss = 0.01847723\n",
            "Iteration 140, loss = 0.01840268\n",
            "Iteration 141, loss = 0.01837496\n",
            "Iteration 142, loss = 0.01829764\n",
            "Iteration 143, loss = 0.01828335\n",
            "Iteration 144, loss = 0.01821359\n",
            "Iteration 145, loss = 0.01816363\n",
            "Iteration 146, loss = 0.01817960\n",
            "Iteration 147, loss = 0.01809467\n",
            "Iteration 148, loss = 0.01802017\n",
            "Iteration 149, loss = 0.01796760\n",
            "Iteration 150, loss = 0.01799619\n",
            "Iteration 151, loss = 0.01789323\n",
            "Iteration 152, loss = 0.01782899\n",
            "Iteration 153, loss = 0.01779758\n",
            "Iteration 154, loss = 0.01775467\n",
            "Iteration 155, loss = 0.01774627\n",
            "Iteration 156, loss = 0.01769650\n",
            "Iteration 157, loss = 0.01762536\n",
            "Iteration 158, loss = 0.01757248\n",
            "Iteration 159, loss = 0.01750781\n",
            "Iteration 160, loss = 0.01753482\n",
            "Iteration 161, loss = 0.01738694\n",
            "Iteration 162, loss = 0.01735595\n",
            "Iteration 163, loss = 0.01730247\n",
            "Iteration 164, loss = 0.01726458\n",
            "Iteration 165, loss = 0.01722075\n",
            "Iteration 166, loss = 0.01718713\n",
            "Iteration 167, loss = 0.01710472\n",
            "Iteration 168, loss = 0.01706161\n",
            "Iteration 169, loss = 0.01706364\n",
            "Iteration 170, loss = 0.01701145\n",
            "Iteration 171, loss = 0.01695088\n",
            "Iteration 172, loss = 0.01693970\n",
            "Iteration 173, loss = 0.01689596\n",
            "Iteration 174, loss = 0.01690974\n",
            "Iteration 175, loss = 0.01688091\n",
            "Iteration 176, loss = 0.01681069\n",
            "Iteration 177, loss = 0.01679496\n",
            "Iteration 178, loss = 0.01677114\n",
            "Iteration 179, loss = 0.01676461\n",
            "Iteration 180, loss = 0.01685080\n",
            "Iteration 181, loss = 0.01671657\n",
            "Iteration 182, loss = 0.01665799\n",
            "Iteration 183, loss = 0.01668063\n",
            "Iteration 184, loss = 0.01661015\n",
            "Iteration 185, loss = 0.01660130\n",
            "Iteration 186, loss = 0.01656063\n",
            "Iteration 187, loss = 0.01652105\n",
            "Iteration 188, loss = 0.01646987\n",
            "Iteration 189, loss = 0.01644908\n",
            "Iteration 190, loss = 0.01648266\n",
            "Iteration 191, loss = 0.01640819\n",
            "Iteration 192, loss = 0.01638527\n",
            "Iteration 193, loss = 0.01636740\n",
            "Iteration 194, loss = 0.01636830\n",
            "Iteration 195, loss = 0.01631169\n",
            "Iteration 196, loss = 0.01630262\n",
            "Iteration 197, loss = 0.01625596\n",
            "Iteration 198, loss = 0.01625996\n",
            "Iteration 199, loss = 0.01620602\n",
            "Iteration 200, loss = 0.01619241\n",
            "Iteration 201, loss = 0.01619873\n",
            "Iteration 202, loss = 0.01614162\n",
            "Iteration 203, loss = 0.01615081\n",
            "Iteration 204, loss = 0.01613928\n",
            "Iteration 205, loss = 0.01610808\n",
            "Iteration 206, loss = 0.01603150\n",
            "Iteration 207, loss = 0.01601173\n",
            "Iteration 208, loss = 0.01596158\n",
            "Iteration 209, loss = 0.01598977\n",
            "Iteration 210, loss = 0.01597697\n",
            "Iteration 211, loss = 0.01594702\n",
            "Iteration 212, loss = 0.01589337\n",
            "Iteration 213, loss = 0.01588895\n",
            "Iteration 214, loss = 0.01587884\n",
            "Iteration 215, loss = 0.01587105\n",
            "Iteration 216, loss = 0.01582833\n",
            "Iteration 217, loss = 0.01578577\n",
            "Iteration 218, loss = 0.01581776\n",
            "Iteration 219, loss = 0.01575741\n",
            "Iteration 220, loss = 0.01574700\n",
            "Iteration 221, loss = 0.01570003\n",
            "Iteration 222, loss = 0.01567355\n",
            "Iteration 223, loss = 0.01564444\n",
            "Iteration 224, loss = 0.01563722\n",
            "Iteration 225, loss = 0.01566624\n",
            "Iteration 226, loss = 0.01559337\n",
            "Iteration 227, loss = 0.01557446\n",
            "Iteration 228, loss = 0.01550929\n",
            "Iteration 229, loss = 0.01552747\n",
            "Iteration 230, loss = 0.01551068\n",
            "Iteration 231, loss = 0.01545778\n",
            "Iteration 232, loss = 0.01548870\n",
            "Iteration 233, loss = 0.01545417\n",
            "Iteration 234, loss = 0.01544401\n",
            "Iteration 235, loss = 0.01543402\n",
            "Iteration 236, loss = 0.01537721\n",
            "Iteration 237, loss = 0.01539762\n",
            "Iteration 238, loss = 0.01535294\n",
            "Iteration 239, loss = 0.01527237\n",
            "Iteration 240, loss = 0.01525737\n",
            "Iteration 241, loss = 0.01531253\n",
            "Iteration 242, loss = 0.01524278\n",
            "Iteration 243, loss = 0.01521324\n",
            "Iteration 244, loss = 0.01522762\n",
            "Iteration 245, loss = 0.01520897\n",
            "Iteration 246, loss = 0.01516200\n",
            "Iteration 247, loss = 0.01516821\n",
            "Iteration 248, loss = 0.01518378\n",
            "Iteration 249, loss = 0.01508420\n",
            "Iteration 250, loss = 0.01514586\n",
            "Iteration 251, loss = 0.01524963\n",
            "Iteration 252, loss = 0.01509056\n",
            "Iteration 253, loss = 0.01504779\n",
            "Iteration 254, loss = 0.01500793\n",
            "Iteration 255, loss = 0.01498001\n",
            "Iteration 256, loss = 0.01497933\n",
            "Iteration 257, loss = 0.01493138\n",
            "Iteration 258, loss = 0.01487366\n",
            "Iteration 259, loss = 0.01483204\n",
            "Iteration 260, loss = 0.01486520\n",
            "Iteration 261, loss = 0.01488755\n",
            "Iteration 262, loss = 0.01476506\n",
            "Iteration 263, loss = 0.01481013\n",
            "Iteration 264, loss = 0.01474542\n",
            "Iteration 265, loss = 0.01473011\n",
            "Iteration 266, loss = 0.01470092\n",
            "Iteration 267, loss = 0.01469866\n",
            "Iteration 268, loss = 0.01465868\n",
            "Iteration 269, loss = 0.01467203\n",
            "Iteration 270, loss = 0.01461649\n",
            "Iteration 271, loss = 0.01463038\n",
            "Iteration 272, loss = 0.01457980\n",
            "Iteration 273, loss = 0.01453001\n",
            "Iteration 274, loss = 0.01453754\n",
            "Iteration 275, loss = 0.01451954\n",
            "Iteration 276, loss = 0.01444499\n",
            "Iteration 277, loss = 0.01445258\n",
            "Iteration 278, loss = 0.01441060\n",
            "Iteration 279, loss = 0.01442975\n",
            "Iteration 280, loss = 0.01439669\n",
            "Iteration 281, loss = 0.01442357\n",
            "Iteration 282, loss = 0.01433450\n",
            "Iteration 283, loss = 0.01440938\n",
            "Iteration 284, loss = 0.01437469\n",
            "Iteration 285, loss = 0.01432981\n",
            "Iteration 286, loss = 0.01428786\n",
            "Iteration 287, loss = 0.01426815\n",
            "Iteration 288, loss = 0.01425610\n",
            "Iteration 289, loss = 0.01421372\n",
            "Iteration 290, loss = 0.01423948\n",
            "Iteration 291, loss = 0.01425413\n",
            "Iteration 292, loss = 0.01415626\n",
            "Iteration 293, loss = 0.01413472\n",
            "Iteration 294, loss = 0.01411007\n",
            "Iteration 295, loss = 0.01411166\n",
            "Iteration 296, loss = 0.01410345\n",
            "Iteration 297, loss = 0.01408845\n",
            "Iteration 298, loss = 0.01402414\n",
            "Iteration 299, loss = 0.01401684\n",
            "Iteration 300, loss = 0.01403928\n",
            "Iteration 301, loss = 0.01400357\n",
            "Iteration 302, loss = 0.01393300\n",
            "Iteration 303, loss = 0.01403004\n",
            "Iteration 304, loss = 0.01399361\n",
            "Iteration 305, loss = 0.01390016\n",
            "Iteration 306, loss = 0.01391080\n",
            "Iteration 307, loss = 0.01387129\n",
            "Iteration 308, loss = 0.01391503\n",
            "Iteration 309, loss = 0.01384114\n",
            "Iteration 310, loss = 0.01379290\n",
            "Iteration 311, loss = 0.01378251\n",
            "Iteration 312, loss = 0.01377168\n",
            "Iteration 313, loss = 0.01381477\n",
            "Iteration 314, loss = 0.01372879\n",
            "Iteration 315, loss = 0.01373828\n",
            "Iteration 316, loss = 0.01371772\n",
            "Iteration 317, loss = 0.01366348\n",
            "Iteration 318, loss = 0.01370529\n",
            "Iteration 319, loss = 0.01366476\n",
            "Iteration 320, loss = 0.01362748\n",
            "Iteration 321, loss = 0.01366155\n",
            "Iteration 322, loss = 0.01353758\n",
            "Iteration 323, loss = 0.01348130\n",
            "Iteration 324, loss = 0.01348177\n",
            "Iteration 325, loss = 0.01344055\n",
            "Iteration 326, loss = 0.01341217\n",
            "Iteration 327, loss = 0.01340274\n",
            "Iteration 328, loss = 0.01335135\n",
            "Iteration 329, loss = 0.01334413\n",
            "Iteration 330, loss = 0.01330719\n",
            "Iteration 331, loss = 0.01328929\n",
            "Iteration 332, loss = 0.01330190\n",
            "Iteration 333, loss = 0.01325806\n",
            "Iteration 334, loss = 0.01321893\n",
            "Iteration 335, loss = 0.01329047\n",
            "Iteration 336, loss = 0.01316709\n",
            "Iteration 337, loss = 0.01317196\n",
            "Iteration 338, loss = 0.01315879\n",
            "Iteration 339, loss = 0.01309938\n",
            "Iteration 340, loss = 0.01306830\n",
            "Iteration 341, loss = 0.01306106\n",
            "Iteration 342, loss = 0.01306254\n",
            "Iteration 343, loss = 0.01300745\n",
            "Iteration 344, loss = 0.01301950\n",
            "Iteration 345, loss = 0.01300947\n",
            "Iteration 346, loss = 0.01294193\n",
            "Iteration 347, loss = 0.01297593\n",
            "Iteration 348, loss = 0.01292091\n",
            "Iteration 349, loss = 0.01292568\n",
            "Iteration 350, loss = 0.01286026\n",
            "Iteration 351, loss = 0.01286518\n",
            "Iteration 352, loss = 0.01285358\n",
            "Iteration 353, loss = 0.01282871\n",
            "Iteration 354, loss = 0.01277979\n",
            "Iteration 355, loss = 0.01275389\n",
            "Iteration 356, loss = 0.01274216\n",
            "Iteration 357, loss = 0.01282520\n",
            "Iteration 358, loss = 0.01270256\n",
            "Iteration 359, loss = 0.01267582\n",
            "Iteration 360, loss = 0.01262662\n",
            "Iteration 361, loss = 0.01261197\n",
            "Iteration 362, loss = 0.01261439\n",
            "Iteration 363, loss = 0.01263712\n",
            "Iteration 364, loss = 0.01256635\n",
            "Iteration 365, loss = 0.01256650\n",
            "Iteration 366, loss = 0.01254515\n",
            "Iteration 367, loss = 0.01252669\n",
            "Iteration 368, loss = 0.01250306\n",
            "Iteration 369, loss = 0.01249748\n",
            "Iteration 370, loss = 0.01244430\n",
            "Iteration 371, loss = 0.01246641\n",
            "Iteration 372, loss = 0.01244242\n",
            "Iteration 373, loss = 0.01241978\n",
            "Iteration 374, loss = 0.01236175\n",
            "Iteration 375, loss = 0.01232512\n",
            "Iteration 376, loss = 0.01230776\n",
            "Iteration 377, loss = 0.01224267\n",
            "Iteration 378, loss = 0.01226302\n",
            "Iteration 379, loss = 0.01220879\n",
            "Iteration 380, loss = 0.01214111\n",
            "Iteration 381, loss = 0.01209797\n",
            "Iteration 382, loss = 0.01208228\n",
            "Iteration 383, loss = 0.01206795\n",
            "Iteration 384, loss = 0.01203797\n",
            "Iteration 385, loss = 0.01200933\n",
            "Iteration 386, loss = 0.01204385\n",
            "Iteration 387, loss = 0.01194835\n",
            "Iteration 388, loss = 0.01196947\n",
            "Iteration 389, loss = 0.01187467\n",
            "Iteration 390, loss = 0.01185106\n",
            "Iteration 391, loss = 0.01184665\n",
            "Iteration 392, loss = 0.01185026\n",
            "Iteration 393, loss = 0.01183652\n",
            "Iteration 394, loss = 0.01176368\n",
            "Iteration 395, loss = 0.01176602\n",
            "Iteration 396, loss = 0.01170521\n",
            "Iteration 397, loss = 0.01167968\n",
            "Iteration 398, loss = 0.01168723\n",
            "Iteration 399, loss = 0.01163143\n",
            "Iteration 400, loss = 0.01160228\n",
            "Iteration 401, loss = 0.01156213\n",
            "Iteration 402, loss = 0.01153869\n",
            "Iteration 403, loss = 0.01148211\n",
            "Iteration 404, loss = 0.01144674\n",
            "Iteration 405, loss = 0.01148925\n",
            "Iteration 406, loss = 0.01138539\n",
            "Iteration 407, loss = 0.01135035\n",
            "Iteration 408, loss = 0.01134892\n",
            "Iteration 409, loss = 0.01128160\n",
            "Iteration 410, loss = 0.01124676\n",
            "Iteration 411, loss = 0.01124017\n",
            "Iteration 412, loss = 0.01125717\n",
            "Iteration 413, loss = 0.01118800\n",
            "Iteration 414, loss = 0.01116593\n",
            "Iteration 415, loss = 0.01112893\n",
            "Iteration 416, loss = 0.01109981\n",
            "Iteration 417, loss = 0.01109269\n",
            "Iteration 418, loss = 0.01104946\n",
            "Iteration 419, loss = 0.01105716\n",
            "Iteration 420, loss = 0.01103539\n",
            "Iteration 421, loss = 0.01095284\n",
            "Iteration 422, loss = 0.01094208\n",
            "Iteration 423, loss = 0.01092121\n",
            "Iteration 424, loss = 0.01092599\n",
            "Iteration 425, loss = 0.01083517\n",
            "Iteration 426, loss = 0.01085377\n",
            "Iteration 427, loss = 0.01082629\n",
            "Iteration 428, loss = 0.01079275\n",
            "Iteration 429, loss = 0.01076985\n",
            "Iteration 430, loss = 0.01078676\n",
            "Iteration 431, loss = 0.01070866\n",
            "Iteration 432, loss = 0.01072552\n",
            "Iteration 433, loss = 0.01074005\n",
            "Iteration 434, loss = 0.01069864\n",
            "Iteration 435, loss = 0.01063692\n",
            "Iteration 436, loss = 0.01058887\n",
            "Iteration 437, loss = 0.01062343\n",
            "Iteration 438, loss = 0.01054900\n",
            "Iteration 439, loss = 0.01051394\n",
            "Iteration 440, loss = 0.01052117\n",
            "Iteration 441, loss = 0.01048579\n",
            "Iteration 442, loss = 0.01046957\n",
            "Iteration 443, loss = 0.01044143\n",
            "Iteration 444, loss = 0.01040810\n",
            "Iteration 445, loss = 0.01041099\n",
            "Iteration 446, loss = 0.01040308\n",
            "Iteration 447, loss = 0.01034030\n",
            "Iteration 448, loss = 0.01031504\n",
            "Iteration 449, loss = 0.01027372\n",
            "Iteration 450, loss = 0.01028196\n",
            "Iteration 451, loss = 0.01024502\n",
            "Iteration 452, loss = 0.01021855\n",
            "Iteration 453, loss = 0.01019373\n",
            "Iteration 454, loss = 0.01016172\n",
            "Iteration 455, loss = 0.01016035\n",
            "Iteration 456, loss = 0.01014069\n",
            "Iteration 457, loss = 0.01012043\n",
            "Iteration 458, loss = 0.01013570\n",
            "Iteration 459, loss = 0.01004023\n",
            "Iteration 460, loss = 0.01008895\n",
            "Iteration 461, loss = 0.01003805\n",
            "Iteration 462, loss = 0.00999001\n",
            "Iteration 463, loss = 0.00998065\n",
            "Iteration 464, loss = 0.00995406\n",
            "Iteration 465, loss = 0.00989843\n",
            "Iteration 466, loss = 0.00995210\n",
            "Iteration 467, loss = 0.00989845\n",
            "Iteration 468, loss = 0.00983821\n",
            "Iteration 469, loss = 0.00982075\n",
            "Iteration 470, loss = 0.00982592\n",
            "Iteration 471, loss = 0.00981968\n",
            "Iteration 472, loss = 0.00977121\n",
            "Iteration 473, loss = 0.00978827\n",
            "Iteration 474, loss = 0.00970637\n",
            "Iteration 475, loss = 0.00970293\n",
            "Iteration 476, loss = 0.00971592\n",
            "Iteration 477, loss = 0.00969714\n",
            "Iteration 478, loss = 0.00961813\n",
            "Iteration 479, loss = 0.00961049\n",
            "Iteration 480, loss = 0.00960110\n",
            "Iteration 481, loss = 0.00957508\n",
            "Iteration 482, loss = 0.00953574\n",
            "Iteration 483, loss = 0.00953393\n",
            "Iteration 484, loss = 0.00954330\n",
            "Iteration 485, loss = 0.00951061\n",
            "Iteration 486, loss = 0.00946349\n",
            "Iteration 487, loss = 0.00944232\n",
            "Iteration 488, loss = 0.00941589\n",
            "Iteration 489, loss = 0.00942668\n",
            "Iteration 490, loss = 0.00938832\n",
            "Iteration 491, loss = 0.00935912\n",
            "Iteration 492, loss = 0.00935360\n",
            "Iteration 493, loss = 0.00930676\n",
            "Iteration 494, loss = 0.00939034\n",
            "Iteration 495, loss = 0.00930614\n",
            "Iteration 496, loss = 0.00928924\n",
            "Iteration 497, loss = 0.00922484\n",
            "Iteration 498, loss = 0.00923507\n",
            "Iteration 499, loss = 0.00918929\n",
            "Iteration 500, loss = 0.00915426\n",
            "Iteration 501, loss = 0.00914852\n",
            "Iteration 502, loss = 0.00914279\n",
            "Iteration 503, loss = 0.00910818\n",
            "Iteration 504, loss = 0.00909494\n",
            "Iteration 505, loss = 0.00912790\n",
            "Iteration 506, loss = 0.00907272\n",
            "Iteration 507, loss = 0.00903405\n",
            "Iteration 508, loss = 0.00904120\n",
            "Iteration 509, loss = 0.00899078\n",
            "Iteration 510, loss = 0.00897700\n",
            "Iteration 511, loss = 0.00895697\n",
            "Iteration 512, loss = 0.00893492\n",
            "Iteration 513, loss = 0.00894432\n",
            "Iteration 514, loss = 0.00899531\n",
            "Iteration 515, loss = 0.00890486\n",
            "Iteration 516, loss = 0.00884859\n",
            "Iteration 517, loss = 0.00882965\n",
            "Iteration 518, loss = 0.00883357\n",
            "Iteration 519, loss = 0.00883827\n",
            "Iteration 520, loss = 0.00881077\n",
            "Iteration 521, loss = 0.00880086\n",
            "Iteration 522, loss = 0.00874312\n",
            "Iteration 523, loss = 0.00872562\n",
            "Iteration 524, loss = 0.00871397\n",
            "Iteration 525, loss = 0.00866807\n",
            "Iteration 526, loss = 0.00868209\n",
            "Iteration 527, loss = 0.00860863\n",
            "Iteration 528, loss = 0.00867261\n",
            "Iteration 529, loss = 0.00860640\n",
            "Iteration 530, loss = 0.00858302\n",
            "Iteration 531, loss = 0.00853687\n",
            "Iteration 532, loss = 0.00852601\n",
            "Iteration 533, loss = 0.00854259\n",
            "Iteration 534, loss = 0.00850866\n",
            "Iteration 535, loss = 0.00848839\n",
            "Iteration 536, loss = 0.00847833\n",
            "Iteration 537, loss = 0.00843928\n",
            "Iteration 538, loss = 0.00841617\n",
            "Iteration 539, loss = 0.00841044\n",
            "Iteration 540, loss = 0.00838408\n",
            "Iteration 541, loss = 0.00833940\n",
            "Iteration 542, loss = 0.00833341\n",
            "Iteration 543, loss = 0.00832707\n",
            "Iteration 544, loss = 0.00832283\n",
            "Iteration 545, loss = 0.00830855\n",
            "Iteration 546, loss = 0.00826436\n",
            "Iteration 547, loss = 0.00823843\n",
            "Iteration 548, loss = 0.00820817\n",
            "Iteration 549, loss = 0.00821135\n",
            "Iteration 550, loss = 0.00818635\n",
            "Iteration 551, loss = 0.00817987\n",
            "Iteration 552, loss = 0.00817777\n",
            "Iteration 553, loss = 0.00811436\n",
            "Iteration 554, loss = 0.00810572\n",
            "Iteration 555, loss = 0.00811669\n",
            "Iteration 556, loss = 0.00806059\n",
            "Iteration 557, loss = 0.00806780\n",
            "Iteration 558, loss = 0.00804124\n",
            "Iteration 559, loss = 0.00801165\n",
            "Iteration 560, loss = 0.00801695\n",
            "Iteration 561, loss = 0.00808729\n",
            "Iteration 562, loss = 0.00795709\n",
            "Iteration 563, loss = 0.00795289\n",
            "Iteration 564, loss = 0.00792561\n",
            "Iteration 565, loss = 0.00789107\n",
            "Iteration 566, loss = 0.00788690\n",
            "Iteration 567, loss = 0.00788230\n",
            "Iteration 568, loss = 0.00789260\n",
            "Iteration 569, loss = 0.00783345\n",
            "Iteration 570, loss = 0.00782124\n",
            "Iteration 571, loss = 0.00778785\n",
            "Iteration 572, loss = 0.00781310\n",
            "Iteration 573, loss = 0.00778764\n",
            "Iteration 574, loss = 0.00783050\n",
            "Iteration 575, loss = 0.00776513\n",
            "Iteration 576, loss = 0.00771642\n",
            "Iteration 577, loss = 0.00771650\n",
            "Iteration 578, loss = 0.00767729\n",
            "Iteration 579, loss = 0.00767910\n",
            "Iteration 580, loss = 0.00764222\n",
            "Iteration 581, loss = 0.00762857\n",
            "Iteration 582, loss = 0.00760812\n",
            "Iteration 583, loss = 0.00762325\n",
            "Iteration 584, loss = 0.00756416\n",
            "Iteration 585, loss = 0.00756386\n",
            "Iteration 586, loss = 0.00755844\n",
            "Iteration 587, loss = 0.00753156\n",
            "Iteration 588, loss = 0.00749543\n",
            "Iteration 589, loss = 0.00751859\n",
            "Iteration 590, loss = 0.00745546\n",
            "Iteration 591, loss = 0.00744449\n",
            "Iteration 592, loss = 0.00744668\n",
            "Iteration 593, loss = 0.00737418\n",
            "Iteration 594, loss = 0.00735386\n",
            "Iteration 595, loss = 0.00735617\n",
            "Iteration 596, loss = 0.00731493\n",
            "Iteration 597, loss = 0.00730805\n",
            "Iteration 598, loss = 0.00727959\n",
            "Iteration 599, loss = 0.00724535\n",
            "Iteration 600, loss = 0.00723383\n",
            "Iteration 601, loss = 0.00724186\n",
            "Iteration 602, loss = 0.00720218\n",
            "Iteration 603, loss = 0.00722549\n",
            "Iteration 604, loss = 0.00718296\n",
            "Iteration 605, loss = 0.00715594\n",
            "Iteration 606, loss = 0.00713797\n",
            "Iteration 607, loss = 0.00712575\n",
            "Iteration 608, loss = 0.00709743\n",
            "Iteration 609, loss = 0.00707519\n",
            "Iteration 610, loss = 0.00706352\n",
            "Iteration 611, loss = 0.00705541\n",
            "Iteration 612, loss = 0.00702944\n",
            "Iteration 613, loss = 0.00702955\n",
            "Iteration 614, loss = 0.00700795\n",
            "Iteration 615, loss = 0.00699466\n",
            "Iteration 616, loss = 0.00693576\n",
            "Iteration 617, loss = 0.00702249\n",
            "Iteration 618, loss = 0.00698702\n",
            "Iteration 619, loss = 0.00702368\n",
            "Iteration 620, loss = 0.00688805\n",
            "Iteration 621, loss = 0.00684713\n",
            "Iteration 622, loss = 0.00683757\n",
            "Iteration 623, loss = 0.00681255\n",
            "Iteration 624, loss = 0.00677821\n",
            "Iteration 625, loss = 0.00675339\n",
            "Iteration 626, loss = 0.00676025\n",
            "Iteration 627, loss = 0.00672843\n",
            "Iteration 628, loss = 0.00670521\n",
            "Iteration 629, loss = 0.00670905\n",
            "Iteration 630, loss = 0.00667073\n",
            "Iteration 631, loss = 0.00665971\n",
            "Iteration 632, loss = 0.00667577\n",
            "Iteration 633, loss = 0.00664501\n",
            "Iteration 634, loss = 0.00661534\n",
            "Iteration 635, loss = 0.00656974\n",
            "Iteration 636, loss = 0.00656114\n",
            "Iteration 637, loss = 0.00654735\n",
            "Iteration 638, loss = 0.00653518\n",
            "Iteration 639, loss = 0.00651870\n",
            "Iteration 640, loss = 0.00651357\n",
            "Iteration 641, loss = 0.00647077\n",
            "Iteration 642, loss = 0.00643634\n",
            "Iteration 643, loss = 0.00646068\n",
            "Iteration 644, loss = 0.00644875\n",
            "Iteration 645, loss = 0.00639787\n",
            "Iteration 646, loss = 0.00638655\n",
            "Iteration 647, loss = 0.00638563\n",
            "Iteration 648, loss = 0.00637250\n",
            "Iteration 649, loss = 0.00633004\n",
            "Iteration 650, loss = 0.00634784\n",
            "Iteration 651, loss = 0.00630674\n",
            "Iteration 652, loss = 0.00627117\n",
            "Iteration 653, loss = 0.00626210\n",
            "Iteration 654, loss = 0.00623372\n",
            "Iteration 655, loss = 0.00622183\n",
            "Iteration 656, loss = 0.00621776\n",
            "Iteration 657, loss = 0.00619325\n",
            "Iteration 658, loss = 0.00616329\n",
            "Iteration 659, loss = 0.00617420\n",
            "Iteration 660, loss = 0.00614563\n",
            "Iteration 661, loss = 0.00615120\n",
            "Iteration 662, loss = 0.00612295\n",
            "Iteration 663, loss = 0.00612438\n",
            "Iteration 664, loss = 0.00608680\n",
            "Iteration 665, loss = 0.00606503\n",
            "Iteration 666, loss = 0.00605028\n",
            "Iteration 667, loss = 0.00601127\n",
            "Iteration 668, loss = 0.00605019\n",
            "Iteration 669, loss = 0.00602647\n",
            "Iteration 670, loss = 0.00605659\n",
            "Iteration 671, loss = 0.00600952\n",
            "Iteration 672, loss = 0.00596667\n",
            "Iteration 673, loss = 0.00594540\n",
            "Iteration 674, loss = 0.00591091\n",
            "Iteration 675, loss = 0.00591280\n",
            "Iteration 676, loss = 0.00593051\n",
            "Iteration 677, loss = 0.00588002\n",
            "Iteration 678, loss = 0.00585812\n",
            "Iteration 679, loss = 0.00586091\n",
            "Iteration 680, loss = 0.00585435\n",
            "Iteration 681, loss = 0.00586538\n",
            "Iteration 682, loss = 0.00594901\n",
            "Iteration 683, loss = 0.00584941\n",
            "Iteration 684, loss = 0.00580772\n",
            "Iteration 685, loss = 0.00578306\n",
            "Iteration 686, loss = 0.00576769\n",
            "Iteration 687, loss = 0.00578187\n",
            "Iteration 688, loss = 0.00574296\n",
            "Iteration 689, loss = 0.00572438\n",
            "Iteration 690, loss = 0.00571255\n",
            "Iteration 691, loss = 0.00572100\n",
            "Iteration 692, loss = 0.00569419\n",
            "Iteration 693, loss = 0.00570043\n",
            "Iteration 694, loss = 0.00567327\n",
            "Iteration 695, loss = 0.00565681\n",
            "Iteration 696, loss = 0.00563922\n",
            "Iteration 697, loss = 0.00567030\n",
            "Iteration 698, loss = 0.00572817\n",
            "Iteration 699, loss = 0.00561909\n",
            "Iteration 700, loss = 0.00560141\n",
            "Iteration 701, loss = 0.00558331\n",
            "Iteration 702, loss = 0.00560131\n",
            "Iteration 703, loss = 0.00555537\n",
            "Iteration 704, loss = 0.00554959\n",
            "Iteration 705, loss = 0.00553012\n",
            "Iteration 706, loss = 0.00552142\n",
            "Iteration 707, loss = 0.00553323\n",
            "Iteration 708, loss = 0.00550422\n",
            "Iteration 709, loss = 0.00549229\n",
            "Iteration 710, loss = 0.00546588\n",
            "Iteration 711, loss = 0.00548452\n",
            "Iteration 712, loss = 0.00546418\n",
            "Iteration 713, loss = 0.00548041\n",
            "Iteration 714, loss = 0.00551299\n",
            "Iteration 715, loss = 0.00544277\n",
            "Iteration 716, loss = 0.00545262\n",
            "Iteration 717, loss = 0.00542248\n",
            "Iteration 718, loss = 0.00544961\n",
            "Iteration 719, loss = 0.00541923\n",
            "Iteration 720, loss = 0.00539565\n",
            "Iteration 721, loss = 0.00535479\n",
            "Iteration 722, loss = 0.00534904\n",
            "Iteration 723, loss = 0.00534540\n",
            "Iteration 724, loss = 0.00533545\n",
            "Iteration 725, loss = 0.00533659\n",
            "Iteration 726, loss = 0.00533191\n",
            "Iteration 727, loss = 0.00532984\n",
            "Iteration 728, loss = 0.00531763\n",
            "Iteration 729, loss = 0.00530822\n",
            "Iteration 730, loss = 0.00528106\n",
            "Iteration 731, loss = 0.00525959\n",
            "Iteration 732, loss = 0.00525060\n",
            "Iteration 733, loss = 0.00527565\n",
            "Iteration 734, loss = 0.00524619\n",
            "Iteration 735, loss = 0.00520576\n",
            "Iteration 736, loss = 0.00521729\n",
            "Iteration 737, loss = 0.00518679\n",
            "Iteration 738, loss = 0.00519021\n",
            "Iteration 739, loss = 0.00519820\n",
            "Iteration 740, loss = 0.00515307\n",
            "Iteration 741, loss = 0.00514611\n",
            "Iteration 742, loss = 0.00515006\n",
            "Iteration 743, loss = 0.00517951\n",
            "Iteration 744, loss = 0.00514411\n",
            "Iteration 745, loss = 0.00514436\n",
            "Iteration 746, loss = 0.00510617\n",
            "Iteration 747, loss = 0.00510456\n",
            "Iteration 748, loss = 0.00508831\n",
            "Iteration 749, loss = 0.00509542\n",
            "Iteration 750, loss = 0.00509771\n",
            "Iteration 751, loss = 0.00506442\n",
            "Iteration 752, loss = 0.00503514\n",
            "Iteration 753, loss = 0.00502392\n",
            "Iteration 754, loss = 0.00500432\n",
            "Iteration 755, loss = 0.00503433\n",
            "Iteration 756, loss = 0.00533918\n",
            "Iteration 757, loss = 0.00580314\n",
            "Iteration 758, loss = 0.00530165\n",
            "Iteration 759, loss = 0.00508590\n",
            "Iteration 760, loss = 0.00503506\n",
            "Iteration 761, loss = 0.00501429\n",
            "Iteration 762, loss = 0.00499106\n",
            "Iteration 763, loss = 0.00499748\n",
            "Iteration 764, loss = 0.00496548\n",
            "Iteration 765, loss = 0.00496286\n",
            "Iteration 766, loss = 0.00493178\n",
            "Iteration 767, loss = 0.00491337\n",
            "Iteration 768, loss = 0.00490800\n",
            "Iteration 769, loss = 0.00490630\n",
            "Iteration 770, loss = 0.00490069\n",
            "Iteration 771, loss = 0.00489525\n",
            "Iteration 772, loss = 0.00487908\n",
            "Iteration 773, loss = 0.00486397\n",
            "Iteration 774, loss = 0.00486073\n",
            "Iteration 775, loss = 0.00485564\n",
            "Iteration 776, loss = 0.00483523\n",
            "Iteration 777, loss = 0.00482820\n",
            "Iteration 778, loss = 0.00485424\n",
            "Iteration 779, loss = 0.00481345\n",
            "Iteration 780, loss = 0.00480355\n",
            "Iteration 781, loss = 0.00479459\n",
            "Iteration 782, loss = 0.00479206\n",
            "Iteration 783, loss = 0.00479920\n",
            "Iteration 784, loss = 0.00477137\n",
            "Iteration 785, loss = 0.00476048\n",
            "Iteration 786, loss = 0.00476160\n",
            "Iteration 787, loss = 0.00476266\n",
            "Iteration 788, loss = 0.00478092\n",
            "Iteration 789, loss = 0.00475307\n",
            "Iteration 790, loss = 0.00475008\n",
            "Iteration 791, loss = 0.00471201\n",
            "Iteration 792, loss = 0.00474659\n",
            "Iteration 793, loss = 0.00471301\n",
            "Iteration 794, loss = 0.00470261\n",
            "Iteration 795, loss = 0.00468004\n",
            "Iteration 796, loss = 0.00467337\n",
            "Iteration 797, loss = 0.00467084\n",
            "Iteration 798, loss = 0.00469667\n",
            "Iteration 799, loss = 0.00467061\n",
            "Iteration 800, loss = 0.00465682\n",
            "Iteration 801, loss = 0.00466003\n",
            "Iteration 802, loss = 0.00466402\n",
            "Iteration 803, loss = 0.00463204\n",
            "Iteration 804, loss = 0.00462634\n",
            "Iteration 805, loss = 0.00463199\n",
            "Iteration 806, loss = 0.00463767\n",
            "Iteration 807, loss = 0.00459283\n",
            "Iteration 808, loss = 0.00458623\n",
            "Iteration 809, loss = 0.00459166\n",
            "Iteration 810, loss = 0.00457809\n",
            "Iteration 811, loss = 0.00463074\n",
            "Iteration 812, loss = 0.00458923\n",
            "Iteration 813, loss = 0.00455643\n",
            "Iteration 814, loss = 0.00457650\n",
            "Iteration 815, loss = 0.00456528\n",
            "Iteration 816, loss = 0.00455224\n",
            "Iteration 817, loss = 0.00454382\n",
            "Iteration 818, loss = 0.00452433\n",
            "Iteration 819, loss = 0.00452591\n",
            "Iteration 820, loss = 0.00451685\n",
            "Iteration 821, loss = 0.00450168\n",
            "Iteration 822, loss = 0.00450992\n",
            "Iteration 823, loss = 0.00451440\n",
            "Iteration 824, loss = 0.00450119\n",
            "Iteration 825, loss = 0.00447538\n",
            "Iteration 826, loss = 0.00445649\n",
            "Iteration 827, loss = 0.00446077\n",
            "Iteration 828, loss = 0.00445909\n",
            "Iteration 829, loss = 0.00450847\n",
            "Iteration 830, loss = 0.00442997\n",
            "Iteration 831, loss = 0.00444656\n",
            "Iteration 832, loss = 0.00442269\n",
            "Iteration 833, loss = 0.00441412\n",
            "Iteration 834, loss = 0.00441250\n",
            "Iteration 835, loss = 0.00443266\n",
            "Iteration 836, loss = 0.00441332\n",
            "Iteration 837, loss = 0.00443405\n",
            "Iteration 838, loss = 0.00442343\n",
            "Iteration 839, loss = 0.00441241\n",
            "Iteration 840, loss = 0.00440572\n",
            "Iteration 841, loss = 0.00433446\n",
            "Iteration 842, loss = 0.00433770\n",
            "Iteration 843, loss = 0.00433094\n",
            "Iteration 844, loss = 0.00434127\n",
            "Iteration 845, loss = 0.00431941\n",
            "Iteration 846, loss = 0.00430873\n",
            "Iteration 847, loss = 0.00433458\n",
            "Iteration 848, loss = 0.00428183\n",
            "Iteration 849, loss = 0.00428942\n",
            "Iteration 850, loss = 0.00429013\n",
            "Iteration 851, loss = 0.00425735\n",
            "Iteration 852, loss = 0.00427061\n",
            "Iteration 853, loss = 0.00428133\n",
            "Iteration 854, loss = 0.00425732\n",
            "Iteration 855, loss = 0.00426056\n",
            "Iteration 856, loss = 0.00428319\n",
            "Iteration 857, loss = 0.00424473\n",
            "Iteration 858, loss = 0.00427849\n",
            "Iteration 859, loss = 0.00424370\n",
            "Iteration 860, loss = 0.00418431\n",
            "Iteration 861, loss = 0.00419778\n",
            "Iteration 862, loss = 0.00418458\n",
            "Iteration 863, loss = 0.00417695\n",
            "Iteration 864, loss = 0.00417016\n",
            "Iteration 865, loss = 0.00418265\n",
            "Iteration 866, loss = 0.00417014\n",
            "Iteration 867, loss = 0.00418377\n",
            "Iteration 868, loss = 0.00416202\n",
            "Iteration 869, loss = 0.00413435\n",
            "Iteration 870, loss = 0.00417025\n",
            "Iteration 871, loss = 0.00413240\n",
            "Iteration 872, loss = 0.00412144\n",
            "Iteration 873, loss = 0.00411154\n",
            "Iteration 874, loss = 0.00415510\n",
            "Iteration 875, loss = 0.00413163\n",
            "Iteration 876, loss = 0.00412999\n",
            "Iteration 877, loss = 0.00410854\n",
            "Iteration 878, loss = 0.00407596\n",
            "Iteration 879, loss = 0.00409408\n",
            "Iteration 880, loss = 0.00406262\n",
            "Iteration 881, loss = 0.00409199\n",
            "Iteration 882, loss = 0.00406868\n",
            "Iteration 883, loss = 0.00404882\n",
            "Iteration 884, loss = 0.00403719\n",
            "Iteration 885, loss = 0.00403489\n",
            "Iteration 886, loss = 0.00402229\n",
            "Iteration 887, loss = 0.00403421\n",
            "Iteration 888, loss = 0.00403018\n",
            "Iteration 889, loss = 0.00403212\n",
            "Iteration 890, loss = 0.00398979\n",
            "Iteration 891, loss = 0.00399183\n",
            "Iteration 892, loss = 0.00398100\n",
            "Iteration 893, loss = 0.00398881\n",
            "Iteration 894, loss = 0.00396743\n",
            "Iteration 895, loss = 0.00397675\n",
            "Iteration 896, loss = 0.00399044\n",
            "Iteration 897, loss = 0.00396864\n",
            "Iteration 898, loss = 0.00399453\n",
            "Iteration 899, loss = 0.00394072\n",
            "Iteration 900, loss = 0.00394232\n",
            "Iteration 901, loss = 0.00392700\n",
            "Iteration 902, loss = 0.00394515\n",
            "Iteration 903, loss = 0.00393943\n",
            "Iteration 904, loss = 0.00392498\n",
            "Iteration 905, loss = 0.00391680\n",
            "Iteration 906, loss = 0.00390231\n",
            "Iteration 907, loss = 0.00389714\n",
            "Iteration 908, loss = 0.00389414\n",
            "Iteration 909, loss = 0.00387278\n",
            "Iteration 910, loss = 0.00388256\n",
            "Iteration 911, loss = 0.00389428\n",
            "Iteration 912, loss = 0.00386180\n",
            "Iteration 913, loss = 0.00384223\n",
            "Iteration 914, loss = 0.00381882\n",
            "Iteration 915, loss = 0.00383126\n",
            "Iteration 916, loss = 0.00379584\n",
            "Iteration 917, loss = 0.00378929\n",
            "Iteration 918, loss = 0.00381931\n",
            "Iteration 919, loss = 0.00444526\n",
            "Iteration 920, loss = 0.00429482\n",
            "Iteration 921, loss = 0.00392706\n",
            "Iteration 922, loss = 0.00386009\n",
            "Iteration 923, loss = 0.00381488\n",
            "Iteration 924, loss = 0.00381049\n",
            "Iteration 925, loss = 0.00377244\n",
            "Iteration 926, loss = 0.00377376\n",
            "Iteration 927, loss = 0.00376648\n",
            "Iteration 928, loss = 0.00375107\n",
            "Iteration 929, loss = 0.00373949\n",
            "Iteration 930, loss = 0.00374222\n",
            "Iteration 931, loss = 0.00372764\n",
            "Iteration 932, loss = 0.00371248\n",
            "Iteration 933, loss = 0.00374770\n",
            "Iteration 934, loss = 0.00369903\n",
            "Iteration 935, loss = 0.00371637\n",
            "Iteration 936, loss = 0.00370350\n",
            "Iteration 937, loss = 0.00370262\n",
            "Iteration 938, loss = 0.00369602\n",
            "Iteration 939, loss = 0.00366438\n",
            "Iteration 940, loss = 0.00366062\n",
            "Iteration 941, loss = 0.00364243\n",
            "Iteration 942, loss = 0.00365867\n",
            "Iteration 943, loss = 0.00366927\n",
            "Iteration 944, loss = 0.00365134\n",
            "Iteration 945, loss = 0.00364402\n",
            "Iteration 946, loss = 0.00362499\n",
            "Iteration 947, loss = 0.00363130\n",
            "Iteration 948, loss = 0.00364636\n",
            "Iteration 949, loss = 0.00363528\n",
            "Iteration 950, loss = 0.00358334\n",
            "Iteration 951, loss = 0.00360454\n",
            "Iteration 952, loss = 0.00358989\n",
            "Iteration 953, loss = 0.00357589\n",
            "Iteration 954, loss = 0.00356490\n",
            "Iteration 955, loss = 0.00356510\n",
            "Iteration 956, loss = 0.00355564\n",
            "Iteration 957, loss = 0.00354851\n",
            "Iteration 958, loss = 0.00356561\n",
            "Iteration 959, loss = 0.00353703\n",
            "Iteration 960, loss = 0.00352492\n",
            "Iteration 961, loss = 0.00351571\n",
            "Iteration 962, loss = 0.00352160\n",
            "Iteration 963, loss = 0.00352448\n",
            "Iteration 964, loss = 0.00351174\n",
            "Iteration 965, loss = 0.00348726\n",
            "Iteration 966, loss = 0.00348763\n",
            "Iteration 967, loss = 0.00347168\n",
            "Iteration 968, loss = 0.00346964\n",
            "Iteration 969, loss = 0.00348748\n",
            "Iteration 970, loss = 0.00349604\n",
            "Iteration 971, loss = 0.00348950\n",
            "Iteration 972, loss = 0.00347237\n",
            "Iteration 973, loss = 0.00344404\n",
            "Iteration 974, loss = 0.00344900\n",
            "Iteration 975, loss = 0.00345381\n",
            "Iteration 976, loss = 0.00343875\n",
            "Iteration 977, loss = 0.00342423\n",
            "Iteration 978, loss = 0.00340777\n",
            "Iteration 979, loss = 0.00341683\n",
            "Iteration 980, loss = 0.00343290\n",
            "Iteration 981, loss = 0.00340053\n",
            "Iteration 982, loss = 0.00341461\n",
            "Iteration 983, loss = 0.00339224\n",
            "Iteration 984, loss = 0.00337744\n",
            "Iteration 985, loss = 0.00340521\n",
            "Iteration 986, loss = 0.00340577\n",
            "Iteration 987, loss = 0.00336633\n",
            "Iteration 988, loss = 0.00333881\n",
            "Iteration 989, loss = 0.00331832\n",
            "Iteration 990, loss = 0.00332197\n",
            "Iteration 991, loss = 0.00332245\n",
            "Iteration 992, loss = 0.00332433\n",
            "Iteration 993, loss = 0.00331137\n",
            "Iteration 994, loss = 0.00332539\n",
            "Iteration 995, loss = 0.00331192\n",
            "Iteration 996, loss = 0.00330584\n",
            "Iteration 997, loss = 0.00328263\n",
            "Iteration 998, loss = 0.00326249\n",
            "Iteration 999, loss = 0.00327139\n",
            "Iteration 1000, loss = 0.00327014\n"
          ]
        },
        {
          "output_type": "stream",
          "name": "stderr",
          "text": [
            "/usr/local/lib/python3.7/dist-packages/sklearn/neural_network/_multilayer_perceptron.py:696: ConvergenceWarning: Stochastic Optimizer: Maximum iterations (1000) reached and the optimization hasn't converged yet.\n",
            "  ConvergenceWarning,\n"
          ]
        },
        {
          "output_type": "execute_result",
          "data": {
            "text/plain": [
              "MLPClassifier(hidden_layer_sizes=(7, 7), max_iter=1000, tol=1e-05, verbose=True)"
            ]
          },
          "metadata": {},
          "execution_count": 100
        }
      ]
    },
    {
      "cell_type": "code",
      "source": [
        "predictions = neural_data.predict(x_data_testing)\n",
        "predictions"
      ],
      "metadata": {
        "colab": {
          "base_uri": "https://localhost:8080/"
        },
        "id": "8P7AdbTF5lo5",
        "outputId": "6183a772-3cd7-44c3-e07f-ded84e6835bf"
      },
      "execution_count": null,
      "outputs": [
        {
          "output_type": "execute_result",
          "data": {
            "text/plain": [
              "array([1, 1, 1, ..., 1, 0, 1])"
            ]
          },
          "metadata": {},
          "execution_count": 101
        }
      ]
    },
    {
      "cell_type": "code",
      "source": [
        "accuracy_score(y_data_testing, predictions) *100"
      ],
      "metadata": {
        "colab": {
          "base_uri": "https://localhost:8080/"
        },
        "id": "etr8ics755JW",
        "outputId": "f400fc9c-50e3-4751-bffc-5d3b08fe9b40"
      },
      "execution_count": null,
      "outputs": [
        {
          "output_type": "execute_result",
          "data": {
            "text/plain": [
              "99.26153846153845"
            ]
          },
          "metadata": {},
          "execution_count": 102
        }
      ]
    },
    {
      "cell_type": "code",
      "source": [
        "cm = ConfusionMatrix(neural_data)\n",
        "cm.fit(x_data_training, y_data_training)\n",
        "cm.score(x_data_testing, y_data_testing)"
      ],
      "metadata": {
        "colab": {
          "base_uri": "https://localhost:8080/",
          "height": 362
        },
        "id": "dVyQW7zG58nZ",
        "outputId": "95da4ddc-0254-44d1-b03c-93124019ad38"
      },
      "execution_count": null,
      "outputs": [
        {
          "output_type": "execute_result",
          "data": {
            "text/plain": [
              "0.9926153846153846"
            ]
          },
          "metadata": {},
          "execution_count": 103
        },
        {
          "output_type": "display_data",
          "data": {
            "text/plain": [
              "<Figure size 576x396 with 1 Axes>"
            ],
            "image/png": "[encoded data removed]"
          },
          "metadata": {}
        }
      ]
    },
    {
      "cell_type": "code",
      "source": [
        "print(classification_report(y_data_testing, predictions))"
      ],
      "metadata": {
        "colab": {
          "base_uri": "https://localhost:8080/"
        },
        "id": "of668CSk6FxH",
        "outputId": "7dcae123-df42-4b69-f822-3f008eb3158b"
      },
      "execution_count": null,
      "outputs": [
        {
          "output_type": "stream",
          "name": "stdout",
          "text": [
            "              precision    recall  f1-score   support\n",
            "\n",
            "           0       0.98      0.99      0.98       392\n",
            "           1       1.00      0.99      1.00      1233\n",
            "\n",
            "    accuracy                           0.99      1625\n",
            "   macro avg       0.99      0.99      0.99      1625\n",
            "weighted avg       0.99      0.99      0.99      1625\n",
            "\n"
          ]
        }
      ]
    },
    {
      "cell_type": "markdown",
      "source": [
        "# Results obtained for each algorithm:\n",
        "\n",
        "Naive Bayes =         98.09\n",
        "\n",
        "Decision tree =       98.89\n",
        "\n",
        "Random Forest =       99.51\n",
        "\n",
        "knn =                 99.38\n",
        "\n",
        "Logistic regression = 99.45\n",
        "\n",
        "SVM =                 99.57\n",
        "\n",
        "Artificial neural =   99.26"
      ],
      "metadata": {
        "id": "pufcxtKx6zdx"
      }
    },
    {
      "cell_type": "markdown",
      "source": [
        "# Parameter tuning with Grid Search for Random Forest and SVM (best results)"
      ],
      "metadata": {
        "id": "gu4JHTJv6w7g"
      }
    },
    {
      "cell_type": "code",
      "source": [
        "from sklearn.model_selection import GridSearchCV\n",
        "from sklearn.ensemble import RandomForestClassifier\n",
        "from sklearn.svm import SVC"
      ],
      "metadata": {
        "id": "EB5UmAEG6JdI"
      },
      "execution_count": null,
      "outputs": []
    },
    {
      "cell_type": "code",
      "source": [
        "# in cross-validation, we use the entire database, division is no longer necessary\n",
        "# concatenating\n",
        "\n",
        "x_data = np.concatenate((x_data_training, x_data_testing), axis = 0)\n",
        "x_data.shape"
      ],
      "metadata": {
        "colab": {
          "base_uri": "https://localhost:8080/"
        },
        "id": "mqZKXSTW8iDA",
        "outputId": "4fdff6c8-e57e-42c9-85f0-17a6d2234e6f"
      },
      "execution_count": null,
      "outputs": [
        {
          "output_type": "execute_result",
          "data": {
            "text/plain": [
              "(6497, 11)"
            ]
          },
          "metadata": {},
          "execution_count": 107
        }
      ]
    },
    {
      "cell_type": "code",
      "source": [
        "y_data = np.concatenate((y_data_training, y_data_testing), axis = 0)\n",
        "y_data.shape"
      ],
      "metadata": {
        "colab": {
          "base_uri": "https://localhost:8080/"
        },
        "id": "9VvnUhef8iLf",
        "outputId": "108138bf-58cc-418c-98a4-cec0783ae323"
      },
      "execution_count": null,
      "outputs": [
        {
          "output_type": "execute_result",
          "data": {
            "text/plain": [
              "(6497,)"
            ]
          },
          "metadata": {},
          "execution_count": 108
        }
      ]
    },
    {
      "cell_type": "markdown",
      "source": [
        "# Random Forest 99.54"
      ],
      "metadata": {
        "id": "dzoP4xXx-r1G"
      }
    },
    {
      "cell_type": "code",
      "source": [
        "parameters = {'criterion': ['gini', 'entropy'],\n",
        "              'n_estimators': [10, 40, 100, 150],\n",
        "              'min_samples_split': [2, 5, 10],\n",
        "              'min_samples_leaf': [1, 5, 10]}\n"
      ],
      "metadata": {
        "id": "QOia0u5V7rSL"
      },
      "execution_count": null,
      "outputs": []
    },
    {
      "cell_type": "code",
      "source": [
        "grid_search = GridSearchCV(estimator=RandomForestClassifier(), param_grid=parameters)\n",
        "grid_search.fit(x_data, y_data)\n",
        "best_parameters = grid_search.best_params_\n",
        "best_result = grid_search.best_score_\n",
        "print(best_parameters)\n",
        "print(best_result)"
      ],
      "metadata": {
        "colab": {
          "base_uri": "https://localhost:8080/"
        },
        "id": "eY0dgNC69JtT",
        "outputId": "8c1f298f-f43a-4eb7-e342-e39c909ae82e"
      },
      "execution_count": null,
      "outputs": [
        {
          "output_type": "stream",
          "name": "stdout",
          "text": [
            "{'criterion': 'entropy', 'min_samples_leaf': 1, 'min_samples_split': 2, 'n_estimators': 40}\n",
            "0.9953827204358381\n"
          ]
        }
      ]
    },
    {
      "cell_type": "markdown",
      "source": [
        "# SVM 99.63"
      ],
      "metadata": {
        "id": "0fSYv_7y-zOb"
      }
    },
    {
      "cell_type": "code",
      "source": [
        "# SVM\n",
        "parameters = {'tol': [0.001, 0.0001, 0.00001],\n",
        "              'C': [1.0, 1.5, 2.0],\n",
        "              'kernel': ['rbf', 'linear', 'poly', 'sigmoid']}"
      ],
      "metadata": {
        "id": "6w4k1QMv9mWM"
      },
      "execution_count": null,
      "outputs": []
    },
    {
      "cell_type": "code",
      "source": [
        "grid_search = GridSearchCV(estimator=SVC(), param_grid=parameters)\n",
        "grid_search.fit(x_data, y_data)\n",
        "best_parameters = grid_search.best_params_\n",
        "best_result = grid_search.best_score_\n",
        "print(best_parameters)\n",
        "print(best_result)"
      ],
      "metadata": {
        "colab": {
          "base_uri": "https://localhost:8080/"
        },
        "id": "2p1iYd2e-W1E",
        "outputId": "788ddd95-73d4-4420-8212-c7d855fbfa26"
      },
      "execution_count": null,
      "outputs": [
        {
          "output_type": "stream",
          "name": "stdout",
          "text": [
            "{'C': 2.0, 'kernel': 'rbf', 'tol': 0.001}\n",
            "0.9963061526618107\n"
          ]
        }
      ]
    },
    {
      "cell_type": "markdown",
      "source": [
        "# Final model chosen to make the predictions: SVM 99.69"
      ],
      "metadata": {
        "id": "kkxz0ByyEqvX"
      }
    },
    {
      "cell_type": "code",
      "source": [
        "import pickle\n",
        "with open('wine_data.pkl', 'rb') as f:  \n",
        "  x_data_training, y_data_training, x_data_testing, y_data_testing = pickle.load(f)"
      ],
      "metadata": {
        "id": "-1q0nb4rEuXi"
      },
      "execution_count": 78,
      "outputs": []
    },
    {
      "cell_type": "code",
      "source": [
        "from sklearn.svm import SVC"
      ],
      "metadata": {
        "id": "iln4KRZ2Ev3K"
      },
      "execution_count": 79,
      "outputs": []
    },
    {
      "cell_type": "code",
      "source": [
        "svm_data = SVC(C =2, kernel='rbf', random_state=1)\n",
        "svm_data.fit(x_data_training, y_data_training)"
      ],
      "metadata": {
        "colab": {
          "base_uri": "https://localhost:8080/"
        },
        "id": "aRFFOIM4FPY4",
        "outputId": "ae63e301-7272-4068-8b13-82b1b0a4e8ae"
      },
      "execution_count": 80,
      "outputs": [
        {
          "output_type": "execute_result",
          "data": {
            "text/plain": [
              "SVC(C=2, random_state=1)"
            ]
          },
          "metadata": {},
          "execution_count": 80
        }
      ]
    },
    {
      "cell_type": "code",
      "source": [
        "predictions = svm_data.predict(x_data_testing)\n",
        "predictions"
      ],
      "metadata": {
        "colab": {
          "base_uri": "https://localhost:8080/"
        },
        "id": "v67aQtYrFzE9",
        "outputId": "e0570300-8996-471f-b013-096d244ed8d7"
      },
      "execution_count": 81,
      "outputs": [
        {
          "output_type": "execute_result",
          "data": {
            "text/plain": [
              "array([1, 1, 1, ..., 1, 0, 1])"
            ]
          },
          "metadata": {},
          "execution_count": 81
        }
      ]
    },
    {
      "cell_type": "code",
      "source": [
        "from sklearn.metrics import accuracy_score, confusion_matrix, classification_report\n",
        "accuracy_score(y_data_testing, predictions) *100"
      ],
      "metadata": {
        "colab": {
          "base_uri": "https://localhost:8080/"
        },
        "id": "GsiGSvLeF320",
        "outputId": "047e43df-af98-4b53-fbb7-630acd621313"
      },
      "execution_count": 87,
      "outputs": [
        {
          "output_type": "execute_result",
          "data": {
            "text/plain": [
              "99.6923076923077"
            ]
          },
          "metadata": {},
          "execution_count": 87
        }
      ]
    },
    {
      "cell_type": "code",
      "source": [
        "from yellowbrick.classifier import ConfusionMatrix"
      ],
      "metadata": {
        "id": "78DRvE6NIf6K"
      },
      "execution_count": 89,
      "outputs": []
    },
    {
      "cell_type": "code",
      "source": [
        "cm = ConfusionMatrix(svm_data)\n",
        "cm.fit(x_data_training, y_data_training)\n",
        "cm.score(x_data_testing, y_data_testing)"
      ],
      "metadata": {
        "colab": {
          "base_uri": "https://localhost:8080/",
          "height": 362
        },
        "id": "o1UElqmbIhMQ",
        "outputId": "5f87fc57-211e-40e5-c214-94da8b80c983"
      },
      "execution_count": 90,
      "outputs": [
        {
          "output_type": "execute_result",
          "data": {
            "text/plain": [
              "0.9969230769230769"
            ]
          },
          "metadata": {},
          "execution_count": 90
        },
        {
          "output_type": "display_data",
          "data": {
            "text/plain": [
              "<Figure size 576x396 with 1 Axes>"
            ],
            "image/png": "[encoded data removed]"
          },
          "metadata": {}
        }
      ]
    },
    {
      "cell_type": "code",
      "source": [
        "print(classification_report(y_data_testing, predictions))"
      ],
      "metadata": {
        "colab": {
          "base_uri": "https://localhost:8080/"
        },
        "id": "Z1G3lpYaGN0A",
        "outputId": "e9e86190-c9e3-4108-ad67-1eb1cc22d4ca"
      },
      "execution_count": 84,
      "outputs": [
        {
          "output_type": "stream",
          "name": "stdout",
          "text": [
            "              precision    recall  f1-score   support\n",
            "\n",
            "           0       1.00      0.99      0.99       392\n",
            "           1       1.00      1.00      1.00      1233\n",
            "\n",
            "    accuracy                           1.00      1625\n",
            "   macro avg       1.00      0.99      1.00      1625\n",
            "weighted avg       1.00      1.00      1.00      1625\n",
            "\n"
          ]
        }
      ]
    }
  ]
}